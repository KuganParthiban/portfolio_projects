{
  "nbformat": 4,
  "nbformat_minor": 0,
  "metadata": {
    "colab": {
      "provenance": [],
      "authorship_tag": "ABX9TyN6Edpv4oPAQgT3UY3V9mCb",
      "include_colab_link": true
    },
    "kernelspec": {
      "name": "python3",
      "display_name": "Python 3"
    },
    "language_info": {
      "name": "python"
    }
  },
  "cells": [
    {
      "cell_type": "markdown",
      "metadata": {
        "id": "view-in-github",
        "colab_type": "text"
      },
      "source": [
        "<a href=\"https://colab.research.google.com/github/KuganParthiban/portfolio_projects/blob/main/Predict_House_Price(Regression).ipynb\" target=\"_parent\"><img src=\"https://colab.research.google.com/assets/colab-badge.svg\" alt=\"Open In Colab\"/></a>"
      ]
    },
    {
      "cell_type": "code",
      "execution_count": 1,
      "metadata": {
        "id": "BRFbgIoaE8iC"
      },
      "outputs": [],
      "source": [
        "import numpy as np\n",
        "import pandas as pd\n",
        "import matplotlib.pyplot as plt"
      ]
    },
    {
      "cell_type": "code",
      "source": [
        "df_train = pd.read_csv('train.csv')\n",
        "df_test = pd.read_csv('test.csv')"
      ],
      "metadata": {
        "id": "o2tKM0r6FDcy"
      },
      "execution_count": 2,
      "outputs": []
    },
    {
      "cell_type": "code",
      "source": [
        "df_train.head()"
      ],
      "metadata": {
        "colab": {
          "base_uri": "https://localhost:8080/",
          "height": 206
        },
        "id": "kFip29-zFj3Z",
        "outputId": "49544b1b-551a-4cba-c189-22856abd8d7d"
      },
      "execution_count": 3,
      "outputs": [
        {
          "output_type": "execute_result",
          "data": {
            "text/plain": [
              "   beds  baths    size size_units  lot_size lot_size_units  zip_code  \\\n",
              "0     3    2.5  2590.0       sqft   6000.00           sqft     98144   \n",
              "1     4    2.0  2240.0       sqft      0.31           acre     98106   \n",
              "2     4    3.0  2040.0       sqft   3783.00           sqft     98107   \n",
              "3     4    3.0  3800.0       sqft   5175.00           sqft     98199   \n",
              "4     2    2.0  1042.0       sqft       NaN            NaN     98102   \n",
              "\n",
              "       price  \n",
              "0   795000.0  \n",
              "1   915000.0  \n",
              "2   950000.0  \n",
              "3  1950000.0  \n",
              "4   950000.0  "
            ],
            "text/html": [
              "\n",
              "  <div id=\"df-532c2df9-3ccc-4145-a06f-1b3ad578efcc\">\n",
              "    <div class=\"colab-df-container\">\n",
              "      <div>\n",
              "<style scoped>\n",
              "    .dataframe tbody tr th:only-of-type {\n",
              "        vertical-align: middle;\n",
              "    }\n",
              "\n",
              "    .dataframe tbody tr th {\n",
              "        vertical-align: top;\n",
              "    }\n",
              "\n",
              "    .dataframe thead th {\n",
              "        text-align: right;\n",
              "    }\n",
              "</style>\n",
              "<table border=\"1\" class=\"dataframe\">\n",
              "  <thead>\n",
              "    <tr style=\"text-align: right;\">\n",
              "      <th></th>\n",
              "      <th>beds</th>\n",
              "      <th>baths</th>\n",
              "      <th>size</th>\n",
              "      <th>size_units</th>\n",
              "      <th>lot_size</th>\n",
              "      <th>lot_size_units</th>\n",
              "      <th>zip_code</th>\n",
              "      <th>price</th>\n",
              "    </tr>\n",
              "  </thead>\n",
              "  <tbody>\n",
              "    <tr>\n",
              "      <th>0</th>\n",
              "      <td>3</td>\n",
              "      <td>2.5</td>\n",
              "      <td>2590.0</td>\n",
              "      <td>sqft</td>\n",
              "      <td>6000.00</td>\n",
              "      <td>sqft</td>\n",
              "      <td>98144</td>\n",
              "      <td>795000.0</td>\n",
              "    </tr>\n",
              "    <tr>\n",
              "      <th>1</th>\n",
              "      <td>4</td>\n",
              "      <td>2.0</td>\n",
              "      <td>2240.0</td>\n",
              "      <td>sqft</td>\n",
              "      <td>0.31</td>\n",
              "      <td>acre</td>\n",
              "      <td>98106</td>\n",
              "      <td>915000.0</td>\n",
              "    </tr>\n",
              "    <tr>\n",
              "      <th>2</th>\n",
              "      <td>4</td>\n",
              "      <td>3.0</td>\n",
              "      <td>2040.0</td>\n",
              "      <td>sqft</td>\n",
              "      <td>3783.00</td>\n",
              "      <td>sqft</td>\n",
              "      <td>98107</td>\n",
              "      <td>950000.0</td>\n",
              "    </tr>\n",
              "    <tr>\n",
              "      <th>3</th>\n",
              "      <td>4</td>\n",
              "      <td>3.0</td>\n",
              "      <td>3800.0</td>\n",
              "      <td>sqft</td>\n",
              "      <td>5175.00</td>\n",
              "      <td>sqft</td>\n",
              "      <td>98199</td>\n",
              "      <td>1950000.0</td>\n",
              "    </tr>\n",
              "    <tr>\n",
              "      <th>4</th>\n",
              "      <td>2</td>\n",
              "      <td>2.0</td>\n",
              "      <td>1042.0</td>\n",
              "      <td>sqft</td>\n",
              "      <td>NaN</td>\n",
              "      <td>NaN</td>\n",
              "      <td>98102</td>\n",
              "      <td>950000.0</td>\n",
              "    </tr>\n",
              "  </tbody>\n",
              "</table>\n",
              "</div>\n",
              "      <button class=\"colab-df-convert\" onclick=\"convertToInteractive('df-532c2df9-3ccc-4145-a06f-1b3ad578efcc')\"\n",
              "              title=\"Convert this dataframe to an interactive table.\"\n",
              "              style=\"display:none;\">\n",
              "        \n",
              "  <svg xmlns=\"http://www.w3.org/2000/svg\" height=\"24px\"viewBox=\"0 0 24 24\"\n",
              "       width=\"24px\">\n",
              "    <path d=\"M0 0h24v24H0V0z\" fill=\"none\"/>\n",
              "    <path d=\"M18.56 5.44l.94 2.06.94-2.06 2.06-.94-2.06-.94-.94-2.06-.94 2.06-2.06.94zm-11 1L8.5 8.5l.94-2.06 2.06-.94-2.06-.94L8.5 2.5l-.94 2.06-2.06.94zm10 10l.94 2.06.94-2.06 2.06-.94-2.06-.94-.94-2.06-.94 2.06-2.06.94z\"/><path d=\"M17.41 7.96l-1.37-1.37c-.4-.4-.92-.59-1.43-.59-.52 0-1.04.2-1.43.59L10.3 9.45l-7.72 7.72c-.78.78-.78 2.05 0 2.83L4 21.41c.39.39.9.59 1.41.59.51 0 1.02-.2 1.41-.59l7.78-7.78 2.81-2.81c.8-.78.8-2.07 0-2.86zM5.41 20L4 18.59l7.72-7.72 1.47 1.35L5.41 20z\"/>\n",
              "  </svg>\n",
              "      </button>\n",
              "      \n",
              "  <style>\n",
              "    .colab-df-container {\n",
              "      display:flex;\n",
              "      flex-wrap:wrap;\n",
              "      gap: 12px;\n",
              "    }\n",
              "\n",
              "    .colab-df-convert {\n",
              "      background-color: #E8F0FE;\n",
              "      border: none;\n",
              "      border-radius: 50%;\n",
              "      cursor: pointer;\n",
              "      display: none;\n",
              "      fill: #1967D2;\n",
              "      height: 32px;\n",
              "      padding: 0 0 0 0;\n",
              "      width: 32px;\n",
              "    }\n",
              "\n",
              "    .colab-df-convert:hover {\n",
              "      background-color: #E2EBFA;\n",
              "      box-shadow: 0px 1px 2px rgba(60, 64, 67, 0.3), 0px 1px 3px 1px rgba(60, 64, 67, 0.15);\n",
              "      fill: #174EA6;\n",
              "    }\n",
              "\n",
              "    [theme=dark] .colab-df-convert {\n",
              "      background-color: #3B4455;\n",
              "      fill: #D2E3FC;\n",
              "    }\n",
              "\n",
              "    [theme=dark] .colab-df-convert:hover {\n",
              "      background-color: #434B5C;\n",
              "      box-shadow: 0px 1px 3px 1px rgba(0, 0, 0, 0.15);\n",
              "      filter: drop-shadow(0px 1px 2px rgba(0, 0, 0, 0.3));\n",
              "      fill: #FFFFFF;\n",
              "    }\n",
              "  </style>\n",
              "\n",
              "      <script>\n",
              "        const buttonEl =\n",
              "          document.querySelector('#df-532c2df9-3ccc-4145-a06f-1b3ad578efcc button.colab-df-convert');\n",
              "        buttonEl.style.display =\n",
              "          google.colab.kernel.accessAllowed ? 'block' : 'none';\n",
              "\n",
              "        async function convertToInteractive(key) {\n",
              "          const element = document.querySelector('#df-532c2df9-3ccc-4145-a06f-1b3ad578efcc');\n",
              "          const dataTable =\n",
              "            await google.colab.kernel.invokeFunction('convertToInteractive',\n",
              "                                                     [key], {});\n",
              "          if (!dataTable) return;\n",
              "\n",
              "          const docLinkHtml = 'Like what you see? Visit the ' +\n",
              "            '<a target=\"_blank\" href=https://colab.research.google.com/notebooks/data_table.ipynb>data table notebook</a>'\n",
              "            + ' to learn more about interactive tables.';\n",
              "          element.innerHTML = '';\n",
              "          dataTable['output_type'] = 'display_data';\n",
              "          await google.colab.output.renderOutput(dataTable, element);\n",
              "          const docLink = document.createElement('div');\n",
              "          docLink.innerHTML = docLinkHtml;\n",
              "          element.appendChild(docLink);\n",
              "        }\n",
              "      </script>\n",
              "    </div>\n",
              "  </div>\n",
              "  "
            ]
          },
          "metadata": {},
          "execution_count": 3
        }
      ]
    },
    {
      "cell_type": "code",
      "source": [
        "df_train.info()"
      ],
      "metadata": {
        "colab": {
          "base_uri": "https://localhost:8080/"
        },
        "id": "lxdOlzhYFr7S",
        "outputId": "271e687b-9d63-44f8-f6c6-4c1092d27794"
      },
      "execution_count": 4,
      "outputs": [
        {
          "output_type": "stream",
          "name": "stdout",
          "text": [
            "<class 'pandas.core.frame.DataFrame'>\n",
            "RangeIndex: 2016 entries, 0 to 2015\n",
            "Data columns (total 8 columns):\n",
            " #   Column          Non-Null Count  Dtype  \n",
            "---  ------          --------------  -----  \n",
            " 0   beds            2016 non-null   int64  \n",
            " 1   baths           2016 non-null   float64\n",
            " 2   size            2016 non-null   float64\n",
            " 3   size_units      2016 non-null   object \n",
            " 4   lot_size        1669 non-null   float64\n",
            " 5   lot_size_units  1669 non-null   object \n",
            " 6   zip_code        2016 non-null   int64  \n",
            " 7   price           2016 non-null   float64\n",
            "dtypes: float64(4), int64(2), object(2)\n",
            "memory usage: 126.1+ KB\n"
          ]
        }
      ]
    },
    {
      "cell_type": "code",
      "source": [
        "df_train.shape"
      ],
      "metadata": {
        "colab": {
          "base_uri": "https://localhost:8080/"
        },
        "id": "6jbteBRCFucy",
        "outputId": "4fc05229-a3e8-4a05-af8e-f3106dfac8ba"
      },
      "execution_count": 5,
      "outputs": [
        {
          "output_type": "execute_result",
          "data": {
            "text/plain": [
              "(2016, 8)"
            ]
          },
          "metadata": {},
          "execution_count": 5
        }
      ]
    },
    {
      "cell_type": "code",
      "source": [
        "df_test.shape "
      ],
      "metadata": {
        "colab": {
          "base_uri": "https://localhost:8080/"
        },
        "id": "qOq8C0lWIWUc",
        "outputId": "6cd84e52-f4b4-4331-a72a-168fcae536aa"
      },
      "execution_count": 6,
      "outputs": [
        {
          "output_type": "execute_result",
          "data": {
            "text/plain": [
              "(505, 8)"
            ]
          },
          "metadata": {},
          "execution_count": 6
        }
      ]
    },
    {
      "cell_type": "code",
      "source": [
        "df_train.columns"
      ],
      "metadata": {
        "colab": {
          "base_uri": "https://localhost:8080/"
        },
        "id": "3VBXHtVQIZ6R",
        "outputId": "d321643c-0ce1-48bd-eb60-0fde10c03417"
      },
      "execution_count": 7,
      "outputs": [
        {
          "output_type": "execute_result",
          "data": {
            "text/plain": [
              "Index(['beds', 'baths', 'size', 'size_units', 'lot_size', 'lot_size_units',\n",
              "       'zip_code', 'price'],\n",
              "      dtype='object')"
            ]
          },
          "metadata": {},
          "execution_count": 7
        }
      ]
    },
    {
      "cell_type": "code",
      "source": [
        "df_train.isnull().sum()"
      ],
      "metadata": {
        "colab": {
          "base_uri": "https://localhost:8080/"
        },
        "id": "2HcyeMubF_e3",
        "outputId": "b053dc18-b84c-4aa5-9f96-801aec7aabf6"
      },
      "execution_count": 8,
      "outputs": [
        {
          "output_type": "execute_result",
          "data": {
            "text/plain": [
              "beds                0\n",
              "baths               0\n",
              "size                0\n",
              "size_units          0\n",
              "lot_size          347\n",
              "lot_size_units    347\n",
              "zip_code            0\n",
              "price               0\n",
              "dtype: int64"
            ]
          },
          "metadata": {},
          "execution_count": 8
        }
      ]
    },
    {
      "cell_type": "code",
      "source": [
        "(df_train.isnull().sum()/len(df_train))"
      ],
      "metadata": {
        "colab": {
          "base_uri": "https://localhost:8080/"
        },
        "id": "VydmJ3mnJACM",
        "outputId": "3c12df2a-634a-4f35-dbc7-84eb95b754cb"
      },
      "execution_count": 9,
      "outputs": [
        {
          "output_type": "execute_result",
          "data": {
            "text/plain": [
              "beds              0.000000\n",
              "baths             0.000000\n",
              "size              0.000000\n",
              "size_units        0.000000\n",
              "lot_size          0.172123\n",
              "lot_size_units    0.172123\n",
              "zip_code          0.000000\n",
              "price             0.000000\n",
              "dtype: float64"
            ]
          },
          "metadata": {},
          "execution_count": 9
        }
      ]
    },
    {
      "cell_type": "code",
      "source": [
        "(df_test.isnull().sum()/len(df_test))"
      ],
      "metadata": {
        "colab": {
          "base_uri": "https://localhost:8080/"
        },
        "id": "QvI8QNCpJMDc",
        "outputId": "6cc5d693-7de3-4f90-d9ab-54f4b2724170"
      },
      "execution_count": 10,
      "outputs": [
        {
          "output_type": "execute_result",
          "data": {
            "text/plain": [
              "beds              0.000000\n",
              "baths             0.000000\n",
              "size              0.000000\n",
              "size_units        0.000000\n",
              "lot_size          0.152475\n",
              "lot_size_units    0.152475\n",
              "zip_code          0.000000\n",
              "price             0.000000\n",
              "dtype: float64"
            ]
          },
          "metadata": {},
          "execution_count": 10
        }
      ]
    },
    {
      "cell_type": "code",
      "source": [
        "df_train = df_train.dropna()\n",
        "df_test = df_test.dropna()"
      ],
      "metadata": {
        "id": "OfKqcuSxGEe4"
      },
      "execution_count": 11,
      "outputs": []
    },
    {
      "cell_type": "code",
      "source": [
        "df_train.describe()"
      ],
      "metadata": {
        "colab": {
          "base_uri": "https://localhost:8080/",
          "height": 300
        },
        "id": "JgaDDNbUHDwK",
        "outputId": "1ec6683f-2cf4-4080-c32a-0712b75f442b"
      },
      "execution_count": 12,
      "outputs": [
        {
          "output_type": "execute_result",
          "data": {
            "text/plain": [
              "              beds        baths          size     lot_size      zip_code  \\\n",
              "count  1669.000000  1669.000000   1669.000000  1669.000000   1669.000000   \n",
              "mean      3.122229     2.294488   1893.097663  3871.059694  98124.519473   \n",
              "std       1.186723     1.008658    916.952780  2719.402066     23.159993   \n",
              "min       1.000000     0.500000    250.000000     0.230000  98101.000000   \n",
              "25%       2.000000     1.500000   1260.000000  1252.000000  98108.000000   \n",
              "50%       3.000000     2.000000   1719.000000  4000.000000  98117.000000   \n",
              "75%       4.000000     3.000000   2360.000000  6000.000000  98126.000000   \n",
              "max      15.000000     9.000000  11010.000000  9998.000000  98199.000000   \n",
              "\n",
              "              price  \n",
              "count  1.669000e+03  \n",
              "mean   1.038475e+06  \n",
              "std    1.007944e+06  \n",
              "min    1.590000e+05  \n",
              "25%    6.800000e+05  \n",
              "50%    8.650000e+05  \n",
              "75%    1.175000e+06  \n",
              "max    2.500000e+07  "
            ],
            "text/html": [
              "\n",
              "  <div id=\"df-520fedee-a454-4509-8b17-705ac1d4ed30\">\n",
              "    <div class=\"colab-df-container\">\n",
              "      <div>\n",
              "<style scoped>\n",
              "    .dataframe tbody tr th:only-of-type {\n",
              "        vertical-align: middle;\n",
              "    }\n",
              "\n",
              "    .dataframe tbody tr th {\n",
              "        vertical-align: top;\n",
              "    }\n",
              "\n",
              "    .dataframe thead th {\n",
              "        text-align: right;\n",
              "    }\n",
              "</style>\n",
              "<table border=\"1\" class=\"dataframe\">\n",
              "  <thead>\n",
              "    <tr style=\"text-align: right;\">\n",
              "      <th></th>\n",
              "      <th>beds</th>\n",
              "      <th>baths</th>\n",
              "      <th>size</th>\n",
              "      <th>lot_size</th>\n",
              "      <th>zip_code</th>\n",
              "      <th>price</th>\n",
              "    </tr>\n",
              "  </thead>\n",
              "  <tbody>\n",
              "    <tr>\n",
              "      <th>count</th>\n",
              "      <td>1669.000000</td>\n",
              "      <td>1669.000000</td>\n",
              "      <td>1669.000000</td>\n",
              "      <td>1669.000000</td>\n",
              "      <td>1669.000000</td>\n",
              "      <td>1.669000e+03</td>\n",
              "    </tr>\n",
              "    <tr>\n",
              "      <th>mean</th>\n",
              "      <td>3.122229</td>\n",
              "      <td>2.294488</td>\n",
              "      <td>1893.097663</td>\n",
              "      <td>3871.059694</td>\n",
              "      <td>98124.519473</td>\n",
              "      <td>1.038475e+06</td>\n",
              "    </tr>\n",
              "    <tr>\n",
              "      <th>std</th>\n",
              "      <td>1.186723</td>\n",
              "      <td>1.008658</td>\n",
              "      <td>916.952780</td>\n",
              "      <td>2719.402066</td>\n",
              "      <td>23.159993</td>\n",
              "      <td>1.007944e+06</td>\n",
              "    </tr>\n",
              "    <tr>\n",
              "      <th>min</th>\n",
              "      <td>1.000000</td>\n",
              "      <td>0.500000</td>\n",
              "      <td>250.000000</td>\n",
              "      <td>0.230000</td>\n",
              "      <td>98101.000000</td>\n",
              "      <td>1.590000e+05</td>\n",
              "    </tr>\n",
              "    <tr>\n",
              "      <th>25%</th>\n",
              "      <td>2.000000</td>\n",
              "      <td>1.500000</td>\n",
              "      <td>1260.000000</td>\n",
              "      <td>1252.000000</td>\n",
              "      <td>98108.000000</td>\n",
              "      <td>6.800000e+05</td>\n",
              "    </tr>\n",
              "    <tr>\n",
              "      <th>50%</th>\n",
              "      <td>3.000000</td>\n",
              "      <td>2.000000</td>\n",
              "      <td>1719.000000</td>\n",
              "      <td>4000.000000</td>\n",
              "      <td>98117.000000</td>\n",
              "      <td>8.650000e+05</td>\n",
              "    </tr>\n",
              "    <tr>\n",
              "      <th>75%</th>\n",
              "      <td>4.000000</td>\n",
              "      <td>3.000000</td>\n",
              "      <td>2360.000000</td>\n",
              "      <td>6000.000000</td>\n",
              "      <td>98126.000000</td>\n",
              "      <td>1.175000e+06</td>\n",
              "    </tr>\n",
              "    <tr>\n",
              "      <th>max</th>\n",
              "      <td>15.000000</td>\n",
              "      <td>9.000000</td>\n",
              "      <td>11010.000000</td>\n",
              "      <td>9998.000000</td>\n",
              "      <td>98199.000000</td>\n",
              "      <td>2.500000e+07</td>\n",
              "    </tr>\n",
              "  </tbody>\n",
              "</table>\n",
              "</div>\n",
              "      <button class=\"colab-df-convert\" onclick=\"convertToInteractive('df-520fedee-a454-4509-8b17-705ac1d4ed30')\"\n",
              "              title=\"Convert this dataframe to an interactive table.\"\n",
              "              style=\"display:none;\">\n",
              "        \n",
              "  <svg xmlns=\"http://www.w3.org/2000/svg\" height=\"24px\"viewBox=\"0 0 24 24\"\n",
              "       width=\"24px\">\n",
              "    <path d=\"M0 0h24v24H0V0z\" fill=\"none\"/>\n",
              "    <path d=\"M18.56 5.44l.94 2.06.94-2.06 2.06-.94-2.06-.94-.94-2.06-.94 2.06-2.06.94zm-11 1L8.5 8.5l.94-2.06 2.06-.94-2.06-.94L8.5 2.5l-.94 2.06-2.06.94zm10 10l.94 2.06.94-2.06 2.06-.94-2.06-.94-.94-2.06-.94 2.06-2.06.94z\"/><path d=\"M17.41 7.96l-1.37-1.37c-.4-.4-.92-.59-1.43-.59-.52 0-1.04.2-1.43.59L10.3 9.45l-7.72 7.72c-.78.78-.78 2.05 0 2.83L4 21.41c.39.39.9.59 1.41.59.51 0 1.02-.2 1.41-.59l7.78-7.78 2.81-2.81c.8-.78.8-2.07 0-2.86zM5.41 20L4 18.59l7.72-7.72 1.47 1.35L5.41 20z\"/>\n",
              "  </svg>\n",
              "      </button>\n",
              "      \n",
              "  <style>\n",
              "    .colab-df-container {\n",
              "      display:flex;\n",
              "      flex-wrap:wrap;\n",
              "      gap: 12px;\n",
              "    }\n",
              "\n",
              "    .colab-df-convert {\n",
              "      background-color: #E8F0FE;\n",
              "      border: none;\n",
              "      border-radius: 50%;\n",
              "      cursor: pointer;\n",
              "      display: none;\n",
              "      fill: #1967D2;\n",
              "      height: 32px;\n",
              "      padding: 0 0 0 0;\n",
              "      width: 32px;\n",
              "    }\n",
              "\n",
              "    .colab-df-convert:hover {\n",
              "      background-color: #E2EBFA;\n",
              "      box-shadow: 0px 1px 2px rgba(60, 64, 67, 0.3), 0px 1px 3px 1px rgba(60, 64, 67, 0.15);\n",
              "      fill: #174EA6;\n",
              "    }\n",
              "\n",
              "    [theme=dark] .colab-df-convert {\n",
              "      background-color: #3B4455;\n",
              "      fill: #D2E3FC;\n",
              "    }\n",
              "\n",
              "    [theme=dark] .colab-df-convert:hover {\n",
              "      background-color: #434B5C;\n",
              "      box-shadow: 0px 1px 3px 1px rgba(0, 0, 0, 0.15);\n",
              "      filter: drop-shadow(0px 1px 2px rgba(0, 0, 0, 0.3));\n",
              "      fill: #FFFFFF;\n",
              "    }\n",
              "  </style>\n",
              "\n",
              "      <script>\n",
              "        const buttonEl =\n",
              "          document.querySelector('#df-520fedee-a454-4509-8b17-705ac1d4ed30 button.colab-df-convert');\n",
              "        buttonEl.style.display =\n",
              "          google.colab.kernel.accessAllowed ? 'block' : 'none';\n",
              "\n",
              "        async function convertToInteractive(key) {\n",
              "          const element = document.querySelector('#df-520fedee-a454-4509-8b17-705ac1d4ed30');\n",
              "          const dataTable =\n",
              "            await google.colab.kernel.invokeFunction('convertToInteractive',\n",
              "                                                     [key], {});\n",
              "          if (!dataTable) return;\n",
              "\n",
              "          const docLinkHtml = 'Like what you see? Visit the ' +\n",
              "            '<a target=\"_blank\" href=https://colab.research.google.com/notebooks/data_table.ipynb>data table notebook</a>'\n",
              "            + ' to learn more about interactive tables.';\n",
              "          element.innerHTML = '';\n",
              "          dataTable['output_type'] = 'display_data';\n",
              "          await google.colab.output.renderOutput(dataTable, element);\n",
              "          const docLink = document.createElement('div');\n",
              "          docLink.innerHTML = docLinkHtml;\n",
              "          element.appendChild(docLink);\n",
              "        }\n",
              "      </script>\n",
              "    </div>\n",
              "  </div>\n",
              "  "
            ]
          },
          "metadata": {},
          "execution_count": 12
        }
      ]
    },
    {
      "cell_type": "code",
      "source": [
        "df_test.describe()"
      ],
      "metadata": {
        "colab": {
          "base_uri": "https://localhost:8080/",
          "height": 300
        },
        "id": "k8vE3oP1Imu9",
        "outputId": "c5876ae3-a333-43d0-d131-8d0c745e6dfe"
      },
      "execution_count": 13,
      "outputs": [
        {
          "output_type": "execute_result",
          "data": {
            "text/plain": [
              "             beds       baths         size     lot_size      zip_code  \\\n",
              "count  428.000000  428.000000   428.000000   428.000000    428.000000   \n",
              "mean     3.196262    2.348131  2008.873832  3994.459813  98126.892523   \n",
              "std      1.132358    1.019285   902.873079  2696.962024     26.251399   \n",
              "min      1.000000    1.000000   376.000000     0.230000  98102.000000   \n",
              "25%      2.000000    2.000000  1338.250000  1326.500000  98108.000000   \n",
              "50%      3.000000    2.000000  1840.000000  4190.000000  98118.000000   \n",
              "75%      4.000000    3.000000  2521.750000  6000.000000  98133.750000   \n",
              "max      9.000000    7.000000  6139.000000  9974.000000  98199.000000   \n",
              "\n",
              "              price  \n",
              "count  4.280000e+02  \n",
              "mean   1.045011e+06  \n",
              "std    6.189425e+05  \n",
              "min    1.700000e+05  \n",
              "25%    6.943750e+05  \n",
              "50%    8.800000e+05  \n",
              "75%    1.200000e+06  \n",
              "max    6.250000e+06  "
            ],
            "text/html": [
              "\n",
              "  <div id=\"df-5080412e-45b0-4f2a-8f57-3dc15bcaab47\">\n",
              "    <div class=\"colab-df-container\">\n",
              "      <div>\n",
              "<style scoped>\n",
              "    .dataframe tbody tr th:only-of-type {\n",
              "        vertical-align: middle;\n",
              "    }\n",
              "\n",
              "    .dataframe tbody tr th {\n",
              "        vertical-align: top;\n",
              "    }\n",
              "\n",
              "    .dataframe thead th {\n",
              "        text-align: right;\n",
              "    }\n",
              "</style>\n",
              "<table border=\"1\" class=\"dataframe\">\n",
              "  <thead>\n",
              "    <tr style=\"text-align: right;\">\n",
              "      <th></th>\n",
              "      <th>beds</th>\n",
              "      <th>baths</th>\n",
              "      <th>size</th>\n",
              "      <th>lot_size</th>\n",
              "      <th>zip_code</th>\n",
              "      <th>price</th>\n",
              "    </tr>\n",
              "  </thead>\n",
              "  <tbody>\n",
              "    <tr>\n",
              "      <th>count</th>\n",
              "      <td>428.000000</td>\n",
              "      <td>428.000000</td>\n",
              "      <td>428.000000</td>\n",
              "      <td>428.000000</td>\n",
              "      <td>428.000000</td>\n",
              "      <td>4.280000e+02</td>\n",
              "    </tr>\n",
              "    <tr>\n",
              "      <th>mean</th>\n",
              "      <td>3.196262</td>\n",
              "      <td>2.348131</td>\n",
              "      <td>2008.873832</td>\n",
              "      <td>3994.459813</td>\n",
              "      <td>98126.892523</td>\n",
              "      <td>1.045011e+06</td>\n",
              "    </tr>\n",
              "    <tr>\n",
              "      <th>std</th>\n",
              "      <td>1.132358</td>\n",
              "      <td>1.019285</td>\n",
              "      <td>902.873079</td>\n",
              "      <td>2696.962024</td>\n",
              "      <td>26.251399</td>\n",
              "      <td>6.189425e+05</td>\n",
              "    </tr>\n",
              "    <tr>\n",
              "      <th>min</th>\n",
              "      <td>1.000000</td>\n",
              "      <td>1.000000</td>\n",
              "      <td>376.000000</td>\n",
              "      <td>0.230000</td>\n",
              "      <td>98102.000000</td>\n",
              "      <td>1.700000e+05</td>\n",
              "    </tr>\n",
              "    <tr>\n",
              "      <th>25%</th>\n",
              "      <td>2.000000</td>\n",
              "      <td>2.000000</td>\n",
              "      <td>1338.250000</td>\n",
              "      <td>1326.500000</td>\n",
              "      <td>98108.000000</td>\n",
              "      <td>6.943750e+05</td>\n",
              "    </tr>\n",
              "    <tr>\n",
              "      <th>50%</th>\n",
              "      <td>3.000000</td>\n",
              "      <td>2.000000</td>\n",
              "      <td>1840.000000</td>\n",
              "      <td>4190.000000</td>\n",
              "      <td>98118.000000</td>\n",
              "      <td>8.800000e+05</td>\n",
              "    </tr>\n",
              "    <tr>\n",
              "      <th>75%</th>\n",
              "      <td>4.000000</td>\n",
              "      <td>3.000000</td>\n",
              "      <td>2521.750000</td>\n",
              "      <td>6000.000000</td>\n",
              "      <td>98133.750000</td>\n",
              "      <td>1.200000e+06</td>\n",
              "    </tr>\n",
              "    <tr>\n",
              "      <th>max</th>\n",
              "      <td>9.000000</td>\n",
              "      <td>7.000000</td>\n",
              "      <td>6139.000000</td>\n",
              "      <td>9974.000000</td>\n",
              "      <td>98199.000000</td>\n",
              "      <td>6.250000e+06</td>\n",
              "    </tr>\n",
              "  </tbody>\n",
              "</table>\n",
              "</div>\n",
              "      <button class=\"colab-df-convert\" onclick=\"convertToInteractive('df-5080412e-45b0-4f2a-8f57-3dc15bcaab47')\"\n",
              "              title=\"Convert this dataframe to an interactive table.\"\n",
              "              style=\"display:none;\">\n",
              "        \n",
              "  <svg xmlns=\"http://www.w3.org/2000/svg\" height=\"24px\"viewBox=\"0 0 24 24\"\n",
              "       width=\"24px\">\n",
              "    <path d=\"M0 0h24v24H0V0z\" fill=\"none\"/>\n",
              "    <path d=\"M18.56 5.44l.94 2.06.94-2.06 2.06-.94-2.06-.94-.94-2.06-.94 2.06-2.06.94zm-11 1L8.5 8.5l.94-2.06 2.06-.94-2.06-.94L8.5 2.5l-.94 2.06-2.06.94zm10 10l.94 2.06.94-2.06 2.06-.94-2.06-.94-.94-2.06-.94 2.06-2.06.94z\"/><path d=\"M17.41 7.96l-1.37-1.37c-.4-.4-.92-.59-1.43-.59-.52 0-1.04.2-1.43.59L10.3 9.45l-7.72 7.72c-.78.78-.78 2.05 0 2.83L4 21.41c.39.39.9.59 1.41.59.51 0 1.02-.2 1.41-.59l7.78-7.78 2.81-2.81c.8-.78.8-2.07 0-2.86zM5.41 20L4 18.59l7.72-7.72 1.47 1.35L5.41 20z\"/>\n",
              "  </svg>\n",
              "      </button>\n",
              "      \n",
              "  <style>\n",
              "    .colab-df-container {\n",
              "      display:flex;\n",
              "      flex-wrap:wrap;\n",
              "      gap: 12px;\n",
              "    }\n",
              "\n",
              "    .colab-df-convert {\n",
              "      background-color: #E8F0FE;\n",
              "      border: none;\n",
              "      border-radius: 50%;\n",
              "      cursor: pointer;\n",
              "      display: none;\n",
              "      fill: #1967D2;\n",
              "      height: 32px;\n",
              "      padding: 0 0 0 0;\n",
              "      width: 32px;\n",
              "    }\n",
              "\n",
              "    .colab-df-convert:hover {\n",
              "      background-color: #E2EBFA;\n",
              "      box-shadow: 0px 1px 2px rgba(60, 64, 67, 0.3), 0px 1px 3px 1px rgba(60, 64, 67, 0.15);\n",
              "      fill: #174EA6;\n",
              "    }\n",
              "\n",
              "    [theme=dark] .colab-df-convert {\n",
              "      background-color: #3B4455;\n",
              "      fill: #D2E3FC;\n",
              "    }\n",
              "\n",
              "    [theme=dark] .colab-df-convert:hover {\n",
              "      background-color: #434B5C;\n",
              "      box-shadow: 0px 1px 3px 1px rgba(0, 0, 0, 0.15);\n",
              "      filter: drop-shadow(0px 1px 2px rgba(0, 0, 0, 0.3));\n",
              "      fill: #FFFFFF;\n",
              "    }\n",
              "  </style>\n",
              "\n",
              "      <script>\n",
              "        const buttonEl =\n",
              "          document.querySelector('#df-5080412e-45b0-4f2a-8f57-3dc15bcaab47 button.colab-df-convert');\n",
              "        buttonEl.style.display =\n",
              "          google.colab.kernel.accessAllowed ? 'block' : 'none';\n",
              "\n",
              "        async function convertToInteractive(key) {\n",
              "          const element = document.querySelector('#df-5080412e-45b0-4f2a-8f57-3dc15bcaab47');\n",
              "          const dataTable =\n",
              "            await google.colab.kernel.invokeFunction('convertToInteractive',\n",
              "                                                     [key], {});\n",
              "          if (!dataTable) return;\n",
              "\n",
              "          const docLinkHtml = 'Like what you see? Visit the ' +\n",
              "            '<a target=\"_blank\" href=https://colab.research.google.com/notebooks/data_table.ipynb>data table notebook</a>'\n",
              "            + ' to learn more about interactive tables.';\n",
              "          element.innerHTML = '';\n",
              "          dataTable['output_type'] = 'display_data';\n",
              "          await google.colab.output.renderOutput(dataTable, element);\n",
              "          const docLink = document.createElement('div');\n",
              "          docLink.innerHTML = docLinkHtml;\n",
              "          element.appendChild(docLink);\n",
              "        }\n",
              "      </script>\n",
              "    </div>\n",
              "  </div>\n",
              "  "
            ]
          },
          "metadata": {},
          "execution_count": 13
        }
      ]
    },
    {
      "cell_type": "code",
      "source": [
        "df_train['lot_size_units'].unique()"
      ],
      "metadata": {
        "colab": {
          "base_uri": "https://localhost:8080/"
        },
        "id": "pgqz68LaKPxP",
        "outputId": "b8c13a03-e2c5-4463-d805-03e0d12c635f"
      },
      "execution_count": 14,
      "outputs": [
        {
          "output_type": "execute_result",
          "data": {
            "text/plain": [
              "array(['sqft', 'acre'], dtype=object)"
            ]
          },
          "metadata": {},
          "execution_count": 14
        }
      ]
    },
    {
      "cell_type": "code",
      "source": [
        "df_train['zip_code'] = df_train['zip_code'].astype(str)"
      ],
      "metadata": {
        "id": "1sI7Yb-2KZM-",
        "colab": {
          "base_uri": "https://localhost:8080/"
        },
        "outputId": "c3feaf7f-1899-4201-b824-0e0a5258f61e"
      },
      "execution_count": 15,
      "outputs": [
        {
          "output_type": "stream",
          "name": "stderr",
          "text": [
            "<ipython-input-15-31924007cd1b>:1: SettingWithCopyWarning: \n",
            "A value is trying to be set on a copy of a slice from a DataFrame.\n",
            "Try using .loc[row_indexer,col_indexer] = value instead\n",
            "\n",
            "See the caveats in the documentation: https://pandas.pydata.org/pandas-docs/stable/user_guide/indexing.html#returning-a-view-versus-a-copy\n",
            "  df_train['zip_code'] = df_train['zip_code'].astype(str)\n"
          ]
        }
      ]
    },
    {
      "cell_type": "code",
      "source": [
        "df_train.info()"
      ],
      "metadata": {
        "colab": {
          "base_uri": "https://localhost:8080/"
        },
        "id": "2asTb77qLB5l",
        "outputId": "0a356a45-a44f-4a57-b2b3-6a441f9542ea"
      },
      "execution_count": 16,
      "outputs": [
        {
          "output_type": "stream",
          "name": "stdout",
          "text": [
            "<class 'pandas.core.frame.DataFrame'>\n",
            "Int64Index: 1669 entries, 0 to 2015\n",
            "Data columns (total 8 columns):\n",
            " #   Column          Non-Null Count  Dtype  \n",
            "---  ------          --------------  -----  \n",
            " 0   beds            1669 non-null   int64  \n",
            " 1   baths           1669 non-null   float64\n",
            " 2   size            1669 non-null   float64\n",
            " 3   size_units      1669 non-null   object \n",
            " 4   lot_size        1669 non-null   float64\n",
            " 5   lot_size_units  1669 non-null   object \n",
            " 6   zip_code        1669 non-null   object \n",
            " 7   price           1669 non-null   float64\n",
            "dtypes: float64(4), int64(1), object(3)\n",
            "memory usage: 117.4+ KB\n"
          ]
        }
      ]
    },
    {
      "cell_type": "code",
      "source": [
        "df_train.columns"
      ],
      "metadata": {
        "colab": {
          "base_uri": "https://localhost:8080/"
        },
        "id": "J7dJ7UUuJQHH",
        "outputId": "5e26946b-80d3-4114-919f-a09e01cf7540"
      },
      "execution_count": 17,
      "outputs": [
        {
          "output_type": "execute_result",
          "data": {
            "text/plain": [
              "Index(['beds', 'baths', 'size', 'size_units', 'lot_size', 'lot_size_units',\n",
              "       'zip_code', 'price'],\n",
              "      dtype='object')"
            ]
          },
          "metadata": {},
          "execution_count": 17
        }
      ]
    },
    {
      "cell_type": "code",
      "source": [
        "df_acre = df_train.loc[df_train['lot_size_units']=='acre']\n",
        "df_acre"
      ],
      "metadata": {
        "colab": {
          "base_uri": "https://localhost:8080/",
          "height": 423
        },
        "id": "ye1OYzPTO_1D",
        "outputId": "a6189fca-0447-4acb-ee1e-444b023c33ee"
      },
      "execution_count": 18,
      "outputs": [
        {
          "output_type": "execute_result",
          "data": {
            "text/plain": [
              "      beds  baths    size size_units  lot_size lot_size_units zip_code  \\\n",
              "1        4    2.0  2240.0       sqft      0.31           acre    98106   \n",
              "5        2    2.0  1190.0       sqft      1.00           acre    98107   \n",
              "25       2    1.5   889.0       sqft      0.23           acre    98103   \n",
              "33       2    2.0   871.0       sqft      0.29           acre    98119   \n",
              "37       5    5.0  2510.0       sqft      0.27           acre    98133   \n",
              "...    ...    ...     ...        ...       ...            ...      ...   \n",
              "1980     1    1.0   865.0       sqft      1.26           acre    98112   \n",
              "1998     4    3.5  4990.0       sqft      0.25           acre    98112   \n",
              "2006     2    2.0   839.0       sqft      0.53           acre    98125   \n",
              "2010     2    2.0  1400.0       sqft      0.34           acre    98199   \n",
              "2011     3    2.0  1370.0       sqft      0.50           acre    98112   \n",
              "\n",
              "          price  \n",
              "1      915000.0  \n",
              "5      740000.0  \n",
              "25     680000.0  \n",
              "33     430000.0  \n",
              "37    1000000.0  \n",
              "...         ...  \n",
              "1980   712500.0  \n",
              "1998  4815000.0  \n",
              "2006   385000.0  \n",
              "2010   699950.0  \n",
              "2011   910000.0  \n",
              "\n",
              "[220 rows x 8 columns]"
            ],
            "text/html": [
              "\n",
              "  <div id=\"df-9898ca6e-760b-4ec4-9b0a-b869f37350b6\">\n",
              "    <div class=\"colab-df-container\">\n",
              "      <div>\n",
              "<style scoped>\n",
              "    .dataframe tbody tr th:only-of-type {\n",
              "        vertical-align: middle;\n",
              "    }\n",
              "\n",
              "    .dataframe tbody tr th {\n",
              "        vertical-align: top;\n",
              "    }\n",
              "\n",
              "    .dataframe thead th {\n",
              "        text-align: right;\n",
              "    }\n",
              "</style>\n",
              "<table border=\"1\" class=\"dataframe\">\n",
              "  <thead>\n",
              "    <tr style=\"text-align: right;\">\n",
              "      <th></th>\n",
              "      <th>beds</th>\n",
              "      <th>baths</th>\n",
              "      <th>size</th>\n",
              "      <th>size_units</th>\n",
              "      <th>lot_size</th>\n",
              "      <th>lot_size_units</th>\n",
              "      <th>zip_code</th>\n",
              "      <th>price</th>\n",
              "    </tr>\n",
              "  </thead>\n",
              "  <tbody>\n",
              "    <tr>\n",
              "      <th>1</th>\n",
              "      <td>4</td>\n",
              "      <td>2.0</td>\n",
              "      <td>2240.0</td>\n",
              "      <td>sqft</td>\n",
              "      <td>0.31</td>\n",
              "      <td>acre</td>\n",
              "      <td>98106</td>\n",
              "      <td>915000.0</td>\n",
              "    </tr>\n",
              "    <tr>\n",
              "      <th>5</th>\n",
              "      <td>2</td>\n",
              "      <td>2.0</td>\n",
              "      <td>1190.0</td>\n",
              "      <td>sqft</td>\n",
              "      <td>1.00</td>\n",
              "      <td>acre</td>\n",
              "      <td>98107</td>\n",
              "      <td>740000.0</td>\n",
              "    </tr>\n",
              "    <tr>\n",
              "      <th>25</th>\n",
              "      <td>2</td>\n",
              "      <td>1.5</td>\n",
              "      <td>889.0</td>\n",
              "      <td>sqft</td>\n",
              "      <td>0.23</td>\n",
              "      <td>acre</td>\n",
              "      <td>98103</td>\n",
              "      <td>680000.0</td>\n",
              "    </tr>\n",
              "    <tr>\n",
              "      <th>33</th>\n",
              "      <td>2</td>\n",
              "      <td>2.0</td>\n",
              "      <td>871.0</td>\n",
              "      <td>sqft</td>\n",
              "      <td>0.29</td>\n",
              "      <td>acre</td>\n",
              "      <td>98119</td>\n",
              "      <td>430000.0</td>\n",
              "    </tr>\n",
              "    <tr>\n",
              "      <th>37</th>\n",
              "      <td>5</td>\n",
              "      <td>5.0</td>\n",
              "      <td>2510.0</td>\n",
              "      <td>sqft</td>\n",
              "      <td>0.27</td>\n",
              "      <td>acre</td>\n",
              "      <td>98133</td>\n",
              "      <td>1000000.0</td>\n",
              "    </tr>\n",
              "    <tr>\n",
              "      <th>...</th>\n",
              "      <td>...</td>\n",
              "      <td>...</td>\n",
              "      <td>...</td>\n",
              "      <td>...</td>\n",
              "      <td>...</td>\n",
              "      <td>...</td>\n",
              "      <td>...</td>\n",
              "      <td>...</td>\n",
              "    </tr>\n",
              "    <tr>\n",
              "      <th>1980</th>\n",
              "      <td>1</td>\n",
              "      <td>1.0</td>\n",
              "      <td>865.0</td>\n",
              "      <td>sqft</td>\n",
              "      <td>1.26</td>\n",
              "      <td>acre</td>\n",
              "      <td>98112</td>\n",
              "      <td>712500.0</td>\n",
              "    </tr>\n",
              "    <tr>\n",
              "      <th>1998</th>\n",
              "      <td>4</td>\n",
              "      <td>3.5</td>\n",
              "      <td>4990.0</td>\n",
              "      <td>sqft</td>\n",
              "      <td>0.25</td>\n",
              "      <td>acre</td>\n",
              "      <td>98112</td>\n",
              "      <td>4815000.0</td>\n",
              "    </tr>\n",
              "    <tr>\n",
              "      <th>2006</th>\n",
              "      <td>2</td>\n",
              "      <td>2.0</td>\n",
              "      <td>839.0</td>\n",
              "      <td>sqft</td>\n",
              "      <td>0.53</td>\n",
              "      <td>acre</td>\n",
              "      <td>98125</td>\n",
              "      <td>385000.0</td>\n",
              "    </tr>\n",
              "    <tr>\n",
              "      <th>2010</th>\n",
              "      <td>2</td>\n",
              "      <td>2.0</td>\n",
              "      <td>1400.0</td>\n",
              "      <td>sqft</td>\n",
              "      <td>0.34</td>\n",
              "      <td>acre</td>\n",
              "      <td>98199</td>\n",
              "      <td>699950.0</td>\n",
              "    </tr>\n",
              "    <tr>\n",
              "      <th>2011</th>\n",
              "      <td>3</td>\n",
              "      <td>2.0</td>\n",
              "      <td>1370.0</td>\n",
              "      <td>sqft</td>\n",
              "      <td>0.50</td>\n",
              "      <td>acre</td>\n",
              "      <td>98112</td>\n",
              "      <td>910000.0</td>\n",
              "    </tr>\n",
              "  </tbody>\n",
              "</table>\n",
              "<p>220 rows × 8 columns</p>\n",
              "</div>\n",
              "      <button class=\"colab-df-convert\" onclick=\"convertToInteractive('df-9898ca6e-760b-4ec4-9b0a-b869f37350b6')\"\n",
              "              title=\"Convert this dataframe to an interactive table.\"\n",
              "              style=\"display:none;\">\n",
              "        \n",
              "  <svg xmlns=\"http://www.w3.org/2000/svg\" height=\"24px\"viewBox=\"0 0 24 24\"\n",
              "       width=\"24px\">\n",
              "    <path d=\"M0 0h24v24H0V0z\" fill=\"none\"/>\n",
              "    <path d=\"M18.56 5.44l.94 2.06.94-2.06 2.06-.94-2.06-.94-.94-2.06-.94 2.06-2.06.94zm-11 1L8.5 8.5l.94-2.06 2.06-.94-2.06-.94L8.5 2.5l-.94 2.06-2.06.94zm10 10l.94 2.06.94-2.06 2.06-.94-2.06-.94-.94-2.06-.94 2.06-2.06.94z\"/><path d=\"M17.41 7.96l-1.37-1.37c-.4-.4-.92-.59-1.43-.59-.52 0-1.04.2-1.43.59L10.3 9.45l-7.72 7.72c-.78.78-.78 2.05 0 2.83L4 21.41c.39.39.9.59 1.41.59.51 0 1.02-.2 1.41-.59l7.78-7.78 2.81-2.81c.8-.78.8-2.07 0-2.86zM5.41 20L4 18.59l7.72-7.72 1.47 1.35L5.41 20z\"/>\n",
              "  </svg>\n",
              "      </button>\n",
              "      \n",
              "  <style>\n",
              "    .colab-df-container {\n",
              "      display:flex;\n",
              "      flex-wrap:wrap;\n",
              "      gap: 12px;\n",
              "    }\n",
              "\n",
              "    .colab-df-convert {\n",
              "      background-color: #E8F0FE;\n",
              "      border: none;\n",
              "      border-radius: 50%;\n",
              "      cursor: pointer;\n",
              "      display: none;\n",
              "      fill: #1967D2;\n",
              "      height: 32px;\n",
              "      padding: 0 0 0 0;\n",
              "      width: 32px;\n",
              "    }\n",
              "\n",
              "    .colab-df-convert:hover {\n",
              "      background-color: #E2EBFA;\n",
              "      box-shadow: 0px 1px 2px rgba(60, 64, 67, 0.3), 0px 1px 3px 1px rgba(60, 64, 67, 0.15);\n",
              "      fill: #174EA6;\n",
              "    }\n",
              "\n",
              "    [theme=dark] .colab-df-convert {\n",
              "      background-color: #3B4455;\n",
              "      fill: #D2E3FC;\n",
              "    }\n",
              "\n",
              "    [theme=dark] .colab-df-convert:hover {\n",
              "      background-color: #434B5C;\n",
              "      box-shadow: 0px 1px 3px 1px rgba(0, 0, 0, 0.15);\n",
              "      filter: drop-shadow(0px 1px 2px rgba(0, 0, 0, 0.3));\n",
              "      fill: #FFFFFF;\n",
              "    }\n",
              "  </style>\n",
              "\n",
              "      <script>\n",
              "        const buttonEl =\n",
              "          document.querySelector('#df-9898ca6e-760b-4ec4-9b0a-b869f37350b6 button.colab-df-convert');\n",
              "        buttonEl.style.display =\n",
              "          google.colab.kernel.accessAllowed ? 'block' : 'none';\n",
              "\n",
              "        async function convertToInteractive(key) {\n",
              "          const element = document.querySelector('#df-9898ca6e-760b-4ec4-9b0a-b869f37350b6');\n",
              "          const dataTable =\n",
              "            await google.colab.kernel.invokeFunction('convertToInteractive',\n",
              "                                                     [key], {});\n",
              "          if (!dataTable) return;\n",
              "\n",
              "          const docLinkHtml = 'Like what you see? Visit the ' +\n",
              "            '<a target=\"_blank\" href=https://colab.research.google.com/notebooks/data_table.ipynb>data table notebook</a>'\n",
              "            + ' to learn more about interactive tables.';\n",
              "          element.innerHTML = '';\n",
              "          dataTable['output_type'] = 'display_data';\n",
              "          await google.colab.output.renderOutput(dataTable, element);\n",
              "          const docLink = document.createElement('div');\n",
              "          docLink.innerHTML = docLinkHtml;\n",
              "          element.appendChild(docLink);\n",
              "        }\n",
              "      </script>\n",
              "    </div>\n",
              "  </div>\n",
              "  "
            ]
          },
          "metadata": {},
          "execution_count": 18
        }
      ]
    },
    {
      "cell_type": "code",
      "source": [
        "df_acre['lot_size']=df_acre['lot_size']*43560\n",
        "df_acre.head()"
      ],
      "metadata": {
        "colab": {
          "base_uri": "https://localhost:8080/",
          "height": 310
        },
        "id": "oQByUxgVQJuD",
        "outputId": "4234f9e3-9357-4509-8d6d-eb4b9691ac60"
      },
      "execution_count": 19,
      "outputs": [
        {
          "output_type": "stream",
          "name": "stderr",
          "text": [
            "<ipython-input-19-111f8a246d8a>:1: SettingWithCopyWarning: \n",
            "A value is trying to be set on a copy of a slice from a DataFrame.\n",
            "Try using .loc[row_indexer,col_indexer] = value instead\n",
            "\n",
            "See the caveats in the documentation: https://pandas.pydata.org/pandas-docs/stable/user_guide/indexing.html#returning-a-view-versus-a-copy\n",
            "  df_acre['lot_size']=df_acre['lot_size']*43560\n"
          ]
        },
        {
          "output_type": "execute_result",
          "data": {
            "text/plain": [
              "    beds  baths    size size_units  lot_size lot_size_units zip_code  \\\n",
              "1      4    2.0  2240.0       sqft   13503.6           acre    98106   \n",
              "5      2    2.0  1190.0       sqft   43560.0           acre    98107   \n",
              "25     2    1.5   889.0       sqft   10018.8           acre    98103   \n",
              "33     2    2.0   871.0       sqft   12632.4           acre    98119   \n",
              "37     5    5.0  2510.0       sqft   11761.2           acre    98133   \n",
              "\n",
              "        price  \n",
              "1    915000.0  \n",
              "5    740000.0  \n",
              "25   680000.0  \n",
              "33   430000.0  \n",
              "37  1000000.0  "
            ],
            "text/html": [
              "\n",
              "  <div id=\"df-7b40e44c-45f0-4d2e-8709-c8f49a8eabbf\">\n",
              "    <div class=\"colab-df-container\">\n",
              "      <div>\n",
              "<style scoped>\n",
              "    .dataframe tbody tr th:only-of-type {\n",
              "        vertical-align: middle;\n",
              "    }\n",
              "\n",
              "    .dataframe tbody tr th {\n",
              "        vertical-align: top;\n",
              "    }\n",
              "\n",
              "    .dataframe thead th {\n",
              "        text-align: right;\n",
              "    }\n",
              "</style>\n",
              "<table border=\"1\" class=\"dataframe\">\n",
              "  <thead>\n",
              "    <tr style=\"text-align: right;\">\n",
              "      <th></th>\n",
              "      <th>beds</th>\n",
              "      <th>baths</th>\n",
              "      <th>size</th>\n",
              "      <th>size_units</th>\n",
              "      <th>lot_size</th>\n",
              "      <th>lot_size_units</th>\n",
              "      <th>zip_code</th>\n",
              "      <th>price</th>\n",
              "    </tr>\n",
              "  </thead>\n",
              "  <tbody>\n",
              "    <tr>\n",
              "      <th>1</th>\n",
              "      <td>4</td>\n",
              "      <td>2.0</td>\n",
              "      <td>2240.0</td>\n",
              "      <td>sqft</td>\n",
              "      <td>13503.6</td>\n",
              "      <td>acre</td>\n",
              "      <td>98106</td>\n",
              "      <td>915000.0</td>\n",
              "    </tr>\n",
              "    <tr>\n",
              "      <th>5</th>\n",
              "      <td>2</td>\n",
              "      <td>2.0</td>\n",
              "      <td>1190.0</td>\n",
              "      <td>sqft</td>\n",
              "      <td>43560.0</td>\n",
              "      <td>acre</td>\n",
              "      <td>98107</td>\n",
              "      <td>740000.0</td>\n",
              "    </tr>\n",
              "    <tr>\n",
              "      <th>25</th>\n",
              "      <td>2</td>\n",
              "      <td>1.5</td>\n",
              "      <td>889.0</td>\n",
              "      <td>sqft</td>\n",
              "      <td>10018.8</td>\n",
              "      <td>acre</td>\n",
              "      <td>98103</td>\n",
              "      <td>680000.0</td>\n",
              "    </tr>\n",
              "    <tr>\n",
              "      <th>33</th>\n",
              "      <td>2</td>\n",
              "      <td>2.0</td>\n",
              "      <td>871.0</td>\n",
              "      <td>sqft</td>\n",
              "      <td>12632.4</td>\n",
              "      <td>acre</td>\n",
              "      <td>98119</td>\n",
              "      <td>430000.0</td>\n",
              "    </tr>\n",
              "    <tr>\n",
              "      <th>37</th>\n",
              "      <td>5</td>\n",
              "      <td>5.0</td>\n",
              "      <td>2510.0</td>\n",
              "      <td>sqft</td>\n",
              "      <td>11761.2</td>\n",
              "      <td>acre</td>\n",
              "      <td>98133</td>\n",
              "      <td>1000000.0</td>\n",
              "    </tr>\n",
              "  </tbody>\n",
              "</table>\n",
              "</div>\n",
              "      <button class=\"colab-df-convert\" onclick=\"convertToInteractive('df-7b40e44c-45f0-4d2e-8709-c8f49a8eabbf')\"\n",
              "              title=\"Convert this dataframe to an interactive table.\"\n",
              "              style=\"display:none;\">\n",
              "        \n",
              "  <svg xmlns=\"http://www.w3.org/2000/svg\" height=\"24px\"viewBox=\"0 0 24 24\"\n",
              "       width=\"24px\">\n",
              "    <path d=\"M0 0h24v24H0V0z\" fill=\"none\"/>\n",
              "    <path d=\"M18.56 5.44l.94 2.06.94-2.06 2.06-.94-2.06-.94-.94-2.06-.94 2.06-2.06.94zm-11 1L8.5 8.5l.94-2.06 2.06-.94-2.06-.94L8.5 2.5l-.94 2.06-2.06.94zm10 10l.94 2.06.94-2.06 2.06-.94-2.06-.94-.94-2.06-.94 2.06-2.06.94z\"/><path d=\"M17.41 7.96l-1.37-1.37c-.4-.4-.92-.59-1.43-.59-.52 0-1.04.2-1.43.59L10.3 9.45l-7.72 7.72c-.78.78-.78 2.05 0 2.83L4 21.41c.39.39.9.59 1.41.59.51 0 1.02-.2 1.41-.59l7.78-7.78 2.81-2.81c.8-.78.8-2.07 0-2.86zM5.41 20L4 18.59l7.72-7.72 1.47 1.35L5.41 20z\"/>\n",
              "  </svg>\n",
              "      </button>\n",
              "      \n",
              "  <style>\n",
              "    .colab-df-container {\n",
              "      display:flex;\n",
              "      flex-wrap:wrap;\n",
              "      gap: 12px;\n",
              "    }\n",
              "\n",
              "    .colab-df-convert {\n",
              "      background-color: #E8F0FE;\n",
              "      border: none;\n",
              "      border-radius: 50%;\n",
              "      cursor: pointer;\n",
              "      display: none;\n",
              "      fill: #1967D2;\n",
              "      height: 32px;\n",
              "      padding: 0 0 0 0;\n",
              "      width: 32px;\n",
              "    }\n",
              "\n",
              "    .colab-df-convert:hover {\n",
              "      background-color: #E2EBFA;\n",
              "      box-shadow: 0px 1px 2px rgba(60, 64, 67, 0.3), 0px 1px 3px 1px rgba(60, 64, 67, 0.15);\n",
              "      fill: #174EA6;\n",
              "    }\n",
              "\n",
              "    [theme=dark] .colab-df-convert {\n",
              "      background-color: #3B4455;\n",
              "      fill: #D2E3FC;\n",
              "    }\n",
              "\n",
              "    [theme=dark] .colab-df-convert:hover {\n",
              "      background-color: #434B5C;\n",
              "      box-shadow: 0px 1px 3px 1px rgba(0, 0, 0, 0.15);\n",
              "      filter: drop-shadow(0px 1px 2px rgba(0, 0, 0, 0.3));\n",
              "      fill: #FFFFFF;\n",
              "    }\n",
              "  </style>\n",
              "\n",
              "      <script>\n",
              "        const buttonEl =\n",
              "          document.querySelector('#df-7b40e44c-45f0-4d2e-8709-c8f49a8eabbf button.colab-df-convert');\n",
              "        buttonEl.style.display =\n",
              "          google.colab.kernel.accessAllowed ? 'block' : 'none';\n",
              "\n",
              "        async function convertToInteractive(key) {\n",
              "          const element = document.querySelector('#df-7b40e44c-45f0-4d2e-8709-c8f49a8eabbf');\n",
              "          const dataTable =\n",
              "            await google.colab.kernel.invokeFunction('convertToInteractive',\n",
              "                                                     [key], {});\n",
              "          if (!dataTable) return;\n",
              "\n",
              "          const docLinkHtml = 'Like what you see? Visit the ' +\n",
              "            '<a target=\"_blank\" href=https://colab.research.google.com/notebooks/data_table.ipynb>data table notebook</a>'\n",
              "            + ' to learn more about interactive tables.';\n",
              "          element.innerHTML = '';\n",
              "          dataTable['output_type'] = 'display_data';\n",
              "          await google.colab.output.renderOutput(dataTable, element);\n",
              "          const docLink = document.createElement('div');\n",
              "          docLink.innerHTML = docLinkHtml;\n",
              "          element.appendChild(docLink);\n",
              "        }\n",
              "      </script>\n",
              "    </div>\n",
              "  </div>\n",
              "  "
            ]
          },
          "metadata": {},
          "execution_count": 19
        }
      ]
    },
    {
      "cell_type": "code",
      "source": [
        "df_sqft = df_train.loc[df_train['lot_size_units']=='sqft']\n",
        "df_sqft"
      ],
      "metadata": {
        "id": "CAG-jb9SXQCu",
        "colab": {
          "base_uri": "https://localhost:8080/",
          "height": 423
        },
        "outputId": "78dc5bf3-f12f-4dbf-ce1e-a79d669d24de"
      },
      "execution_count": 20,
      "outputs": [
        {
          "output_type": "execute_result",
          "data": {
            "text/plain": [
              "      beds  baths    size size_units  lot_size lot_size_units zip_code  \\\n",
              "0        3    2.5  2590.0       sqft    6000.0           sqft    98144   \n",
              "2        4    3.0  2040.0       sqft    3783.0           sqft    98107   \n",
              "3        4    3.0  3800.0       sqft    5175.0           sqft    98199   \n",
              "6        1    1.0   670.0       sqft    6000.0           sqft    98133   \n",
              "7        5    3.5  4510.0       sqft    6000.0           sqft    98105   \n",
              "...    ...    ...     ...        ...       ...            ...      ...   \n",
              "2007     3    1.0  1120.0       sqft    7407.0           sqft    98178   \n",
              "2008     3    2.0  1482.0       sqft    1085.0           sqft    98117   \n",
              "2009     3    3.5  1680.0       sqft    1486.0           sqft    98126   \n",
              "2013     4    2.0  2140.0       sqft    6250.0           sqft    98199   \n",
              "2015     3    2.0  1710.0       sqft    4267.0           sqft    98133   \n",
              "\n",
              "          price  \n",
              "0      795000.0  \n",
              "2      950000.0  \n",
              "3     1950000.0  \n",
              "6      460000.0  \n",
              "7     3150000.0  \n",
              "...         ...  \n",
              "2007   708000.0  \n",
              "2008   919000.0  \n",
              "2009   675000.0  \n",
              "2013  1150000.0  \n",
              "2015   659000.0  \n",
              "\n",
              "[1449 rows x 8 columns]"
            ],
            "text/html": [
              "\n",
              "  <div id=\"df-21b38dc4-608b-4a53-b3cd-67395dbbd0b1\">\n",
              "    <div class=\"colab-df-container\">\n",
              "      <div>\n",
              "<style scoped>\n",
              "    .dataframe tbody tr th:only-of-type {\n",
              "        vertical-align: middle;\n",
              "    }\n",
              "\n",
              "    .dataframe tbody tr th {\n",
              "        vertical-align: top;\n",
              "    }\n",
              "\n",
              "    .dataframe thead th {\n",
              "        text-align: right;\n",
              "    }\n",
              "</style>\n",
              "<table border=\"1\" class=\"dataframe\">\n",
              "  <thead>\n",
              "    <tr style=\"text-align: right;\">\n",
              "      <th></th>\n",
              "      <th>beds</th>\n",
              "      <th>baths</th>\n",
              "      <th>size</th>\n",
              "      <th>size_units</th>\n",
              "      <th>lot_size</th>\n",
              "      <th>lot_size_units</th>\n",
              "      <th>zip_code</th>\n",
              "      <th>price</th>\n",
              "    </tr>\n",
              "  </thead>\n",
              "  <tbody>\n",
              "    <tr>\n",
              "      <th>0</th>\n",
              "      <td>3</td>\n",
              "      <td>2.5</td>\n",
              "      <td>2590.0</td>\n",
              "      <td>sqft</td>\n",
              "      <td>6000.0</td>\n",
              "      <td>sqft</td>\n",
              "      <td>98144</td>\n",
              "      <td>795000.0</td>\n",
              "    </tr>\n",
              "    <tr>\n",
              "      <th>2</th>\n",
              "      <td>4</td>\n",
              "      <td>3.0</td>\n",
              "      <td>2040.0</td>\n",
              "      <td>sqft</td>\n",
              "      <td>3783.0</td>\n",
              "      <td>sqft</td>\n",
              "      <td>98107</td>\n",
              "      <td>950000.0</td>\n",
              "    </tr>\n",
              "    <tr>\n",
              "      <th>3</th>\n",
              "      <td>4</td>\n",
              "      <td>3.0</td>\n",
              "      <td>3800.0</td>\n",
              "      <td>sqft</td>\n",
              "      <td>5175.0</td>\n",
              "      <td>sqft</td>\n",
              "      <td>98199</td>\n",
              "      <td>1950000.0</td>\n",
              "    </tr>\n",
              "    <tr>\n",
              "      <th>6</th>\n",
              "      <td>1</td>\n",
              "      <td>1.0</td>\n",
              "      <td>670.0</td>\n",
              "      <td>sqft</td>\n",
              "      <td>6000.0</td>\n",
              "      <td>sqft</td>\n",
              "      <td>98133</td>\n",
              "      <td>460000.0</td>\n",
              "    </tr>\n",
              "    <tr>\n",
              "      <th>7</th>\n",
              "      <td>5</td>\n",
              "      <td>3.5</td>\n",
              "      <td>4510.0</td>\n",
              "      <td>sqft</td>\n",
              "      <td>6000.0</td>\n",
              "      <td>sqft</td>\n",
              "      <td>98105</td>\n",
              "      <td>3150000.0</td>\n",
              "    </tr>\n",
              "    <tr>\n",
              "      <th>...</th>\n",
              "      <td>...</td>\n",
              "      <td>...</td>\n",
              "      <td>...</td>\n",
              "      <td>...</td>\n",
              "      <td>...</td>\n",
              "      <td>...</td>\n",
              "      <td>...</td>\n",
              "      <td>...</td>\n",
              "    </tr>\n",
              "    <tr>\n",
              "      <th>2007</th>\n",
              "      <td>3</td>\n",
              "      <td>1.0</td>\n",
              "      <td>1120.0</td>\n",
              "      <td>sqft</td>\n",
              "      <td>7407.0</td>\n",
              "      <td>sqft</td>\n",
              "      <td>98178</td>\n",
              "      <td>708000.0</td>\n",
              "    </tr>\n",
              "    <tr>\n",
              "      <th>2008</th>\n",
              "      <td>3</td>\n",
              "      <td>2.0</td>\n",
              "      <td>1482.0</td>\n",
              "      <td>sqft</td>\n",
              "      <td>1085.0</td>\n",
              "      <td>sqft</td>\n",
              "      <td>98117</td>\n",
              "      <td>919000.0</td>\n",
              "    </tr>\n",
              "    <tr>\n",
              "      <th>2009</th>\n",
              "      <td>3</td>\n",
              "      <td>3.5</td>\n",
              "      <td>1680.0</td>\n",
              "      <td>sqft</td>\n",
              "      <td>1486.0</td>\n",
              "      <td>sqft</td>\n",
              "      <td>98126</td>\n",
              "      <td>675000.0</td>\n",
              "    </tr>\n",
              "    <tr>\n",
              "      <th>2013</th>\n",
              "      <td>4</td>\n",
              "      <td>2.0</td>\n",
              "      <td>2140.0</td>\n",
              "      <td>sqft</td>\n",
              "      <td>6250.0</td>\n",
              "      <td>sqft</td>\n",
              "      <td>98199</td>\n",
              "      <td>1150000.0</td>\n",
              "    </tr>\n",
              "    <tr>\n",
              "      <th>2015</th>\n",
              "      <td>3</td>\n",
              "      <td>2.0</td>\n",
              "      <td>1710.0</td>\n",
              "      <td>sqft</td>\n",
              "      <td>4267.0</td>\n",
              "      <td>sqft</td>\n",
              "      <td>98133</td>\n",
              "      <td>659000.0</td>\n",
              "    </tr>\n",
              "  </tbody>\n",
              "</table>\n",
              "<p>1449 rows × 8 columns</p>\n",
              "</div>\n",
              "      <button class=\"colab-df-convert\" onclick=\"convertToInteractive('df-21b38dc4-608b-4a53-b3cd-67395dbbd0b1')\"\n",
              "              title=\"Convert this dataframe to an interactive table.\"\n",
              "              style=\"display:none;\">\n",
              "        \n",
              "  <svg xmlns=\"http://www.w3.org/2000/svg\" height=\"24px\"viewBox=\"0 0 24 24\"\n",
              "       width=\"24px\">\n",
              "    <path d=\"M0 0h24v24H0V0z\" fill=\"none\"/>\n",
              "    <path d=\"M18.56 5.44l.94 2.06.94-2.06 2.06-.94-2.06-.94-.94-2.06-.94 2.06-2.06.94zm-11 1L8.5 8.5l.94-2.06 2.06-.94-2.06-.94L8.5 2.5l-.94 2.06-2.06.94zm10 10l.94 2.06.94-2.06 2.06-.94-2.06-.94-.94-2.06-.94 2.06-2.06.94z\"/><path d=\"M17.41 7.96l-1.37-1.37c-.4-.4-.92-.59-1.43-.59-.52 0-1.04.2-1.43.59L10.3 9.45l-7.72 7.72c-.78.78-.78 2.05 0 2.83L4 21.41c.39.39.9.59 1.41.59.51 0 1.02-.2 1.41-.59l7.78-7.78 2.81-2.81c.8-.78.8-2.07 0-2.86zM5.41 20L4 18.59l7.72-7.72 1.47 1.35L5.41 20z\"/>\n",
              "  </svg>\n",
              "      </button>\n",
              "      \n",
              "  <style>\n",
              "    .colab-df-container {\n",
              "      display:flex;\n",
              "      flex-wrap:wrap;\n",
              "      gap: 12px;\n",
              "    }\n",
              "\n",
              "    .colab-df-convert {\n",
              "      background-color: #E8F0FE;\n",
              "      border: none;\n",
              "      border-radius: 50%;\n",
              "      cursor: pointer;\n",
              "      display: none;\n",
              "      fill: #1967D2;\n",
              "      height: 32px;\n",
              "      padding: 0 0 0 0;\n",
              "      width: 32px;\n",
              "    }\n",
              "\n",
              "    .colab-df-convert:hover {\n",
              "      background-color: #E2EBFA;\n",
              "      box-shadow: 0px 1px 2px rgba(60, 64, 67, 0.3), 0px 1px 3px 1px rgba(60, 64, 67, 0.15);\n",
              "      fill: #174EA6;\n",
              "    }\n",
              "\n",
              "    [theme=dark] .colab-df-convert {\n",
              "      background-color: #3B4455;\n",
              "      fill: #D2E3FC;\n",
              "    }\n",
              "\n",
              "    [theme=dark] .colab-df-convert:hover {\n",
              "      background-color: #434B5C;\n",
              "      box-shadow: 0px 1px 3px 1px rgba(0, 0, 0, 0.15);\n",
              "      filter: drop-shadow(0px 1px 2px rgba(0, 0, 0, 0.3));\n",
              "      fill: #FFFFFF;\n",
              "    }\n",
              "  </style>\n",
              "\n",
              "      <script>\n",
              "        const buttonEl =\n",
              "          document.querySelector('#df-21b38dc4-608b-4a53-b3cd-67395dbbd0b1 button.colab-df-convert');\n",
              "        buttonEl.style.display =\n",
              "          google.colab.kernel.accessAllowed ? 'block' : 'none';\n",
              "\n",
              "        async function convertToInteractive(key) {\n",
              "          const element = document.querySelector('#df-21b38dc4-608b-4a53-b3cd-67395dbbd0b1');\n",
              "          const dataTable =\n",
              "            await google.colab.kernel.invokeFunction('convertToInteractive',\n",
              "                                                     [key], {});\n",
              "          if (!dataTable) return;\n",
              "\n",
              "          const docLinkHtml = 'Like what you see? Visit the ' +\n",
              "            '<a target=\"_blank\" href=https://colab.research.google.com/notebooks/data_table.ipynb>data table notebook</a>'\n",
              "            + ' to learn more about interactive tables.';\n",
              "          element.innerHTML = '';\n",
              "          dataTable['output_type'] = 'display_data';\n",
              "          await google.colab.output.renderOutput(dataTable, element);\n",
              "          const docLink = document.createElement('div');\n",
              "          docLink.innerHTML = docLinkHtml;\n",
              "          element.appendChild(docLink);\n",
              "        }\n",
              "      </script>\n",
              "    </div>\n",
              "  </div>\n",
              "  "
            ]
          },
          "metadata": {},
          "execution_count": 20
        }
      ]
    },
    {
      "cell_type": "code",
      "source": [
        "concat = [df_acre,df_sqft]\n",
        "\n",
        "df_train = pd.concat(concat)"
      ],
      "metadata": {
        "id": "1WjwW2fFJt1u"
      },
      "execution_count": 21,
      "outputs": []
    },
    {
      "cell_type": "code",
      "source": [
        "df_train"
      ],
      "metadata": {
        "colab": {
          "base_uri": "https://localhost:8080/",
          "height": 423
        },
        "id": "1kDE1SFRKOLS",
        "outputId": "4ce898d0-4b17-40bd-8b43-7a4066eb39dd"
      },
      "execution_count": 22,
      "outputs": [
        {
          "output_type": "execute_result",
          "data": {
            "text/plain": [
              "      beds  baths    size size_units  lot_size lot_size_units zip_code  \\\n",
              "1        4    2.0  2240.0       sqft   13503.6           acre    98106   \n",
              "5        2    2.0  1190.0       sqft   43560.0           acre    98107   \n",
              "25       2    1.5   889.0       sqft   10018.8           acre    98103   \n",
              "33       2    2.0   871.0       sqft   12632.4           acre    98119   \n",
              "37       5    5.0  2510.0       sqft   11761.2           acre    98133   \n",
              "...    ...    ...     ...        ...       ...            ...      ...   \n",
              "2007     3    1.0  1120.0       sqft    7407.0           sqft    98178   \n",
              "2008     3    2.0  1482.0       sqft    1085.0           sqft    98117   \n",
              "2009     3    3.5  1680.0       sqft    1486.0           sqft    98126   \n",
              "2013     4    2.0  2140.0       sqft    6250.0           sqft    98199   \n",
              "2015     3    2.0  1710.0       sqft    4267.0           sqft    98133   \n",
              "\n",
              "          price  \n",
              "1      915000.0  \n",
              "5      740000.0  \n",
              "25     680000.0  \n",
              "33     430000.0  \n",
              "37    1000000.0  \n",
              "...         ...  \n",
              "2007   708000.0  \n",
              "2008   919000.0  \n",
              "2009   675000.0  \n",
              "2013  1150000.0  \n",
              "2015   659000.0  \n",
              "\n",
              "[1669 rows x 8 columns]"
            ],
            "text/html": [
              "\n",
              "  <div id=\"df-e72b2b59-9786-4ae7-b1ca-3588a4d60928\">\n",
              "    <div class=\"colab-df-container\">\n",
              "      <div>\n",
              "<style scoped>\n",
              "    .dataframe tbody tr th:only-of-type {\n",
              "        vertical-align: middle;\n",
              "    }\n",
              "\n",
              "    .dataframe tbody tr th {\n",
              "        vertical-align: top;\n",
              "    }\n",
              "\n",
              "    .dataframe thead th {\n",
              "        text-align: right;\n",
              "    }\n",
              "</style>\n",
              "<table border=\"1\" class=\"dataframe\">\n",
              "  <thead>\n",
              "    <tr style=\"text-align: right;\">\n",
              "      <th></th>\n",
              "      <th>beds</th>\n",
              "      <th>baths</th>\n",
              "      <th>size</th>\n",
              "      <th>size_units</th>\n",
              "      <th>lot_size</th>\n",
              "      <th>lot_size_units</th>\n",
              "      <th>zip_code</th>\n",
              "      <th>price</th>\n",
              "    </tr>\n",
              "  </thead>\n",
              "  <tbody>\n",
              "    <tr>\n",
              "      <th>1</th>\n",
              "      <td>4</td>\n",
              "      <td>2.0</td>\n",
              "      <td>2240.0</td>\n",
              "      <td>sqft</td>\n",
              "      <td>13503.6</td>\n",
              "      <td>acre</td>\n",
              "      <td>98106</td>\n",
              "      <td>915000.0</td>\n",
              "    </tr>\n",
              "    <tr>\n",
              "      <th>5</th>\n",
              "      <td>2</td>\n",
              "      <td>2.0</td>\n",
              "      <td>1190.0</td>\n",
              "      <td>sqft</td>\n",
              "      <td>43560.0</td>\n",
              "      <td>acre</td>\n",
              "      <td>98107</td>\n",
              "      <td>740000.0</td>\n",
              "    </tr>\n",
              "    <tr>\n",
              "      <th>25</th>\n",
              "      <td>2</td>\n",
              "      <td>1.5</td>\n",
              "      <td>889.0</td>\n",
              "      <td>sqft</td>\n",
              "      <td>10018.8</td>\n",
              "      <td>acre</td>\n",
              "      <td>98103</td>\n",
              "      <td>680000.0</td>\n",
              "    </tr>\n",
              "    <tr>\n",
              "      <th>33</th>\n",
              "      <td>2</td>\n",
              "      <td>2.0</td>\n",
              "      <td>871.0</td>\n",
              "      <td>sqft</td>\n",
              "      <td>12632.4</td>\n",
              "      <td>acre</td>\n",
              "      <td>98119</td>\n",
              "      <td>430000.0</td>\n",
              "    </tr>\n",
              "    <tr>\n",
              "      <th>37</th>\n",
              "      <td>5</td>\n",
              "      <td>5.0</td>\n",
              "      <td>2510.0</td>\n",
              "      <td>sqft</td>\n",
              "      <td>11761.2</td>\n",
              "      <td>acre</td>\n",
              "      <td>98133</td>\n",
              "      <td>1000000.0</td>\n",
              "    </tr>\n",
              "    <tr>\n",
              "      <th>...</th>\n",
              "      <td>...</td>\n",
              "      <td>...</td>\n",
              "      <td>...</td>\n",
              "      <td>...</td>\n",
              "      <td>...</td>\n",
              "      <td>...</td>\n",
              "      <td>...</td>\n",
              "      <td>...</td>\n",
              "    </tr>\n",
              "    <tr>\n",
              "      <th>2007</th>\n",
              "      <td>3</td>\n",
              "      <td>1.0</td>\n",
              "      <td>1120.0</td>\n",
              "      <td>sqft</td>\n",
              "      <td>7407.0</td>\n",
              "      <td>sqft</td>\n",
              "      <td>98178</td>\n",
              "      <td>708000.0</td>\n",
              "    </tr>\n",
              "    <tr>\n",
              "      <th>2008</th>\n",
              "      <td>3</td>\n",
              "      <td>2.0</td>\n",
              "      <td>1482.0</td>\n",
              "      <td>sqft</td>\n",
              "      <td>1085.0</td>\n",
              "      <td>sqft</td>\n",
              "      <td>98117</td>\n",
              "      <td>919000.0</td>\n",
              "    </tr>\n",
              "    <tr>\n",
              "      <th>2009</th>\n",
              "      <td>3</td>\n",
              "      <td>3.5</td>\n",
              "      <td>1680.0</td>\n",
              "      <td>sqft</td>\n",
              "      <td>1486.0</td>\n",
              "      <td>sqft</td>\n",
              "      <td>98126</td>\n",
              "      <td>675000.0</td>\n",
              "    </tr>\n",
              "    <tr>\n",
              "      <th>2013</th>\n",
              "      <td>4</td>\n",
              "      <td>2.0</td>\n",
              "      <td>2140.0</td>\n",
              "      <td>sqft</td>\n",
              "      <td>6250.0</td>\n",
              "      <td>sqft</td>\n",
              "      <td>98199</td>\n",
              "      <td>1150000.0</td>\n",
              "    </tr>\n",
              "    <tr>\n",
              "      <th>2015</th>\n",
              "      <td>3</td>\n",
              "      <td>2.0</td>\n",
              "      <td>1710.0</td>\n",
              "      <td>sqft</td>\n",
              "      <td>4267.0</td>\n",
              "      <td>sqft</td>\n",
              "      <td>98133</td>\n",
              "      <td>659000.0</td>\n",
              "    </tr>\n",
              "  </tbody>\n",
              "</table>\n",
              "<p>1669 rows × 8 columns</p>\n",
              "</div>\n",
              "      <button class=\"colab-df-convert\" onclick=\"convertToInteractive('df-e72b2b59-9786-4ae7-b1ca-3588a4d60928')\"\n",
              "              title=\"Convert this dataframe to an interactive table.\"\n",
              "              style=\"display:none;\">\n",
              "        \n",
              "  <svg xmlns=\"http://www.w3.org/2000/svg\" height=\"24px\"viewBox=\"0 0 24 24\"\n",
              "       width=\"24px\">\n",
              "    <path d=\"M0 0h24v24H0V0z\" fill=\"none\"/>\n",
              "    <path d=\"M18.56 5.44l.94 2.06.94-2.06 2.06-.94-2.06-.94-.94-2.06-.94 2.06-2.06.94zm-11 1L8.5 8.5l.94-2.06 2.06-.94-2.06-.94L8.5 2.5l-.94 2.06-2.06.94zm10 10l.94 2.06.94-2.06 2.06-.94-2.06-.94-.94-2.06-.94 2.06-2.06.94z\"/><path d=\"M17.41 7.96l-1.37-1.37c-.4-.4-.92-.59-1.43-.59-.52 0-1.04.2-1.43.59L10.3 9.45l-7.72 7.72c-.78.78-.78 2.05 0 2.83L4 21.41c.39.39.9.59 1.41.59.51 0 1.02-.2 1.41-.59l7.78-7.78 2.81-2.81c.8-.78.8-2.07 0-2.86zM5.41 20L4 18.59l7.72-7.72 1.47 1.35L5.41 20z\"/>\n",
              "  </svg>\n",
              "      </button>\n",
              "      \n",
              "  <style>\n",
              "    .colab-df-container {\n",
              "      display:flex;\n",
              "      flex-wrap:wrap;\n",
              "      gap: 12px;\n",
              "    }\n",
              "\n",
              "    .colab-df-convert {\n",
              "      background-color: #E8F0FE;\n",
              "      border: none;\n",
              "      border-radius: 50%;\n",
              "      cursor: pointer;\n",
              "      display: none;\n",
              "      fill: #1967D2;\n",
              "      height: 32px;\n",
              "      padding: 0 0 0 0;\n",
              "      width: 32px;\n",
              "    }\n",
              "\n",
              "    .colab-df-convert:hover {\n",
              "      background-color: #E2EBFA;\n",
              "      box-shadow: 0px 1px 2px rgba(60, 64, 67, 0.3), 0px 1px 3px 1px rgba(60, 64, 67, 0.15);\n",
              "      fill: #174EA6;\n",
              "    }\n",
              "\n",
              "    [theme=dark] .colab-df-convert {\n",
              "      background-color: #3B4455;\n",
              "      fill: #D2E3FC;\n",
              "    }\n",
              "\n",
              "    [theme=dark] .colab-df-convert:hover {\n",
              "      background-color: #434B5C;\n",
              "      box-shadow: 0px 1px 3px 1px rgba(0, 0, 0, 0.15);\n",
              "      filter: drop-shadow(0px 1px 2px rgba(0, 0, 0, 0.3));\n",
              "      fill: #FFFFFF;\n",
              "    }\n",
              "  </style>\n",
              "\n",
              "      <script>\n",
              "        const buttonEl =\n",
              "          document.querySelector('#df-e72b2b59-9786-4ae7-b1ca-3588a4d60928 button.colab-df-convert');\n",
              "        buttonEl.style.display =\n",
              "          google.colab.kernel.accessAllowed ? 'block' : 'none';\n",
              "\n",
              "        async function convertToInteractive(key) {\n",
              "          const element = document.querySelector('#df-e72b2b59-9786-4ae7-b1ca-3588a4d60928');\n",
              "          const dataTable =\n",
              "            await google.colab.kernel.invokeFunction('convertToInteractive',\n",
              "                                                     [key], {});\n",
              "          if (!dataTable) return;\n",
              "\n",
              "          const docLinkHtml = 'Like what you see? Visit the ' +\n",
              "            '<a target=\"_blank\" href=https://colab.research.google.com/notebooks/data_table.ipynb>data table notebook</a>'\n",
              "            + ' to learn more about interactive tables.';\n",
              "          element.innerHTML = '';\n",
              "          dataTable['output_type'] = 'display_data';\n",
              "          await google.colab.output.renderOutput(dataTable, element);\n",
              "          const docLink = document.createElement('div');\n",
              "          docLink.innerHTML = docLinkHtml;\n",
              "          element.appendChild(docLink);\n",
              "        }\n",
              "      </script>\n",
              "    </div>\n",
              "  </div>\n",
              "  "
            ]
          },
          "metadata": {},
          "execution_count": 22
        }
      ]
    },
    {
      "cell_type": "code",
      "source": [
        "df_train.columns"
      ],
      "metadata": {
        "colab": {
          "base_uri": "https://localhost:8080/"
        },
        "id": "2dBt8IJMKP0s",
        "outputId": "f951416d-fb35-49ad-800d-9fc3b01070c4"
      },
      "execution_count": 23,
      "outputs": [
        {
          "output_type": "execute_result",
          "data": {
            "text/plain": [
              "Index(['beds', 'baths', 'size', 'size_units', 'lot_size', 'lot_size_units',\n",
              "       'zip_code', 'price'],\n",
              "      dtype='object')"
            ]
          },
          "metadata": {},
          "execution_count": 23
        }
      ]
    },
    {
      "cell_type": "code",
      "source": [
        "df_train['size_units'].unique()"
      ],
      "metadata": {
        "colab": {
          "base_uri": "https://localhost:8080/"
        },
        "id": "iyobsMO0Kil0",
        "outputId": "df6fa05e-59f2-4fcb-bd3c-c6d27495a4dd"
      },
      "execution_count": 24,
      "outputs": [
        {
          "output_type": "execute_result",
          "data": {
            "text/plain": [
              "array(['sqft'], dtype=object)"
            ]
          },
          "metadata": {},
          "execution_count": 24
        }
      ]
    },
    {
      "cell_type": "code",
      "source": [
        "df_train = df_train[['beds', 'baths', 'size', 'lot_size','zip_code', 'price']]"
      ],
      "metadata": {
        "id": "fYQ-JlrgKbe1"
      },
      "execution_count": 25,
      "outputs": []
    },
    {
      "cell_type": "code",
      "source": [
        "df_train.columns"
      ],
      "metadata": {
        "colab": {
          "base_uri": "https://localhost:8080/"
        },
        "id": "V90d8PqnK2M6",
        "outputId": "ad8b8322-9d13-4476-e580-ee2cd392293f"
      },
      "execution_count": 26,
      "outputs": [
        {
          "output_type": "execute_result",
          "data": {
            "text/plain": [
              "Index(['beds', 'baths', 'size', 'lot_size', 'zip_code', 'price'], dtype='object')"
            ]
          },
          "metadata": {},
          "execution_count": 26
        }
      ]
    },
    {
      "cell_type": "code",
      "source": [
        "df_train.dtypes"
      ],
      "metadata": {
        "colab": {
          "base_uri": "https://localhost:8080/"
        },
        "id": "sfffJJX1K4YW",
        "outputId": "98b83591-2498-4323-e95c-9e3dbc4746cb"
      },
      "execution_count": 27,
      "outputs": [
        {
          "output_type": "execute_result",
          "data": {
            "text/plain": [
              "beds          int64\n",
              "baths       float64\n",
              "size        float64\n",
              "lot_size    float64\n",
              "zip_code     object\n",
              "price       float64\n",
              "dtype: object"
            ]
          },
          "metadata": {},
          "execution_count": 27
        }
      ]
    },
    {
      "cell_type": "code",
      "source": [
        "df_acre2 = df_test.loc[df_test['lot_size_units']=='acre']\n",
        "df_acre2['lot_size']=df_acre2['lot_size']*43560\n",
        "df_acre2.head()"
      ],
      "metadata": {
        "colab": {
          "base_uri": "https://localhost:8080/",
          "height": 310
        },
        "id": "dFJhNvy5K7ef",
        "outputId": "29639d97-f49f-45e8-e517-526888ecd8c9"
      },
      "execution_count": 28,
      "outputs": [
        {
          "output_type": "stream",
          "name": "stderr",
          "text": [
            "<ipython-input-28-0b9b85802276>:2: SettingWithCopyWarning: \n",
            "A value is trying to be set on a copy of a slice from a DataFrame.\n",
            "Try using .loc[row_indexer,col_indexer] = value instead\n",
            "\n",
            "See the caveats in the documentation: https://pandas.pydata.org/pandas-docs/stable/user_guide/indexing.html#returning-a-view-versus-a-copy\n",
            "  df_acre2['lot_size']=df_acre2['lot_size']*43560\n"
          ]
        },
        {
          "output_type": "execute_result",
          "data": {
            "text/plain": [
              "    beds  baths    size size_units  lot_size lot_size_units  zip_code  \\\n",
              "3      3    2.0  2360.0       sqft   12196.8           acre     98188   \n",
              "13     2    2.0  1800.0       sqft   31363.2           acre     98199   \n",
              "15     2    2.0  2241.0       sqft   47480.4           acre     98112   \n",
              "20     4    2.0  1690.0       sqft   13939.2           acre     98168   \n",
              "30     2    2.0   964.0       sqft  172933.2           acre     98126   \n",
              "\n",
              "        price  \n",
              "3    565000.0  \n",
              "13   699950.0  \n",
              "15  2450000.0  \n",
              "20   550000.0  \n",
              "30   512500.0  "
            ],
            "text/html": [
              "\n",
              "  <div id=\"df-017e8fda-7218-47d2-83cb-6643b17e5bf0\">\n",
              "    <div class=\"colab-df-container\">\n",
              "      <div>\n",
              "<style scoped>\n",
              "    .dataframe tbody tr th:only-of-type {\n",
              "        vertical-align: middle;\n",
              "    }\n",
              "\n",
              "    .dataframe tbody tr th {\n",
              "        vertical-align: top;\n",
              "    }\n",
              "\n",
              "    .dataframe thead th {\n",
              "        text-align: right;\n",
              "    }\n",
              "</style>\n",
              "<table border=\"1\" class=\"dataframe\">\n",
              "  <thead>\n",
              "    <tr style=\"text-align: right;\">\n",
              "      <th></th>\n",
              "      <th>beds</th>\n",
              "      <th>baths</th>\n",
              "      <th>size</th>\n",
              "      <th>size_units</th>\n",
              "      <th>lot_size</th>\n",
              "      <th>lot_size_units</th>\n",
              "      <th>zip_code</th>\n",
              "      <th>price</th>\n",
              "    </tr>\n",
              "  </thead>\n",
              "  <tbody>\n",
              "    <tr>\n",
              "      <th>3</th>\n",
              "      <td>3</td>\n",
              "      <td>2.0</td>\n",
              "      <td>2360.0</td>\n",
              "      <td>sqft</td>\n",
              "      <td>12196.8</td>\n",
              "      <td>acre</td>\n",
              "      <td>98188</td>\n",
              "      <td>565000.0</td>\n",
              "    </tr>\n",
              "    <tr>\n",
              "      <th>13</th>\n",
              "      <td>2</td>\n",
              "      <td>2.0</td>\n",
              "      <td>1800.0</td>\n",
              "      <td>sqft</td>\n",
              "      <td>31363.2</td>\n",
              "      <td>acre</td>\n",
              "      <td>98199</td>\n",
              "      <td>699950.0</td>\n",
              "    </tr>\n",
              "    <tr>\n",
              "      <th>15</th>\n",
              "      <td>2</td>\n",
              "      <td>2.0</td>\n",
              "      <td>2241.0</td>\n",
              "      <td>sqft</td>\n",
              "      <td>47480.4</td>\n",
              "      <td>acre</td>\n",
              "      <td>98112</td>\n",
              "      <td>2450000.0</td>\n",
              "    </tr>\n",
              "    <tr>\n",
              "      <th>20</th>\n",
              "      <td>4</td>\n",
              "      <td>2.0</td>\n",
              "      <td>1690.0</td>\n",
              "      <td>sqft</td>\n",
              "      <td>13939.2</td>\n",
              "      <td>acre</td>\n",
              "      <td>98168</td>\n",
              "      <td>550000.0</td>\n",
              "    </tr>\n",
              "    <tr>\n",
              "      <th>30</th>\n",
              "      <td>2</td>\n",
              "      <td>2.0</td>\n",
              "      <td>964.0</td>\n",
              "      <td>sqft</td>\n",
              "      <td>172933.2</td>\n",
              "      <td>acre</td>\n",
              "      <td>98126</td>\n",
              "      <td>512500.0</td>\n",
              "    </tr>\n",
              "  </tbody>\n",
              "</table>\n",
              "</div>\n",
              "      <button class=\"colab-df-convert\" onclick=\"convertToInteractive('df-017e8fda-7218-47d2-83cb-6643b17e5bf0')\"\n",
              "              title=\"Convert this dataframe to an interactive table.\"\n",
              "              style=\"display:none;\">\n",
              "        \n",
              "  <svg xmlns=\"http://www.w3.org/2000/svg\" height=\"24px\"viewBox=\"0 0 24 24\"\n",
              "       width=\"24px\">\n",
              "    <path d=\"M0 0h24v24H0V0z\" fill=\"none\"/>\n",
              "    <path d=\"M18.56 5.44l.94 2.06.94-2.06 2.06-.94-2.06-.94-.94-2.06-.94 2.06-2.06.94zm-11 1L8.5 8.5l.94-2.06 2.06-.94-2.06-.94L8.5 2.5l-.94 2.06-2.06.94zm10 10l.94 2.06.94-2.06 2.06-.94-2.06-.94-.94-2.06-.94 2.06-2.06.94z\"/><path d=\"M17.41 7.96l-1.37-1.37c-.4-.4-.92-.59-1.43-.59-.52 0-1.04.2-1.43.59L10.3 9.45l-7.72 7.72c-.78.78-.78 2.05 0 2.83L4 21.41c.39.39.9.59 1.41.59.51 0 1.02-.2 1.41-.59l7.78-7.78 2.81-2.81c.8-.78.8-2.07 0-2.86zM5.41 20L4 18.59l7.72-7.72 1.47 1.35L5.41 20z\"/>\n",
              "  </svg>\n",
              "      </button>\n",
              "      \n",
              "  <style>\n",
              "    .colab-df-container {\n",
              "      display:flex;\n",
              "      flex-wrap:wrap;\n",
              "      gap: 12px;\n",
              "    }\n",
              "\n",
              "    .colab-df-convert {\n",
              "      background-color: #E8F0FE;\n",
              "      border: none;\n",
              "      border-radius: 50%;\n",
              "      cursor: pointer;\n",
              "      display: none;\n",
              "      fill: #1967D2;\n",
              "      height: 32px;\n",
              "      padding: 0 0 0 0;\n",
              "      width: 32px;\n",
              "    }\n",
              "\n",
              "    .colab-df-convert:hover {\n",
              "      background-color: #E2EBFA;\n",
              "      box-shadow: 0px 1px 2px rgba(60, 64, 67, 0.3), 0px 1px 3px 1px rgba(60, 64, 67, 0.15);\n",
              "      fill: #174EA6;\n",
              "    }\n",
              "\n",
              "    [theme=dark] .colab-df-convert {\n",
              "      background-color: #3B4455;\n",
              "      fill: #D2E3FC;\n",
              "    }\n",
              "\n",
              "    [theme=dark] .colab-df-convert:hover {\n",
              "      background-color: #434B5C;\n",
              "      box-shadow: 0px 1px 3px 1px rgba(0, 0, 0, 0.15);\n",
              "      filter: drop-shadow(0px 1px 2px rgba(0, 0, 0, 0.3));\n",
              "      fill: #FFFFFF;\n",
              "    }\n",
              "  </style>\n",
              "\n",
              "      <script>\n",
              "        const buttonEl =\n",
              "          document.querySelector('#df-017e8fda-7218-47d2-83cb-6643b17e5bf0 button.colab-df-convert');\n",
              "        buttonEl.style.display =\n",
              "          google.colab.kernel.accessAllowed ? 'block' : 'none';\n",
              "\n",
              "        async function convertToInteractive(key) {\n",
              "          const element = document.querySelector('#df-017e8fda-7218-47d2-83cb-6643b17e5bf0');\n",
              "          const dataTable =\n",
              "            await google.colab.kernel.invokeFunction('convertToInteractive',\n",
              "                                                     [key], {});\n",
              "          if (!dataTable) return;\n",
              "\n",
              "          const docLinkHtml = 'Like what you see? Visit the ' +\n",
              "            '<a target=\"_blank\" href=https://colab.research.google.com/notebooks/data_table.ipynb>data table notebook</a>'\n",
              "            + ' to learn more about interactive tables.';\n",
              "          element.innerHTML = '';\n",
              "          dataTable['output_type'] = 'display_data';\n",
              "          await google.colab.output.renderOutput(dataTable, element);\n",
              "          const docLink = document.createElement('div');\n",
              "          docLink.innerHTML = docLinkHtml;\n",
              "          element.appendChild(docLink);\n",
              "        }\n",
              "      </script>\n",
              "    </div>\n",
              "  </div>\n",
              "  "
            ]
          },
          "metadata": {},
          "execution_count": 28
        }
      ]
    },
    {
      "cell_type": "code",
      "source": [
        "df_sqft2 = df_test.loc[df_test['lot_size_units']=='sqft']\n",
        "df_sqft2"
      ],
      "metadata": {
        "colab": {
          "base_uri": "https://localhost:8080/",
          "height": 423
        },
        "id": "BaEIvsnTLH-T",
        "outputId": "31002bd6-e9e6-47a5-8822-6fa3ca0dd118"
      },
      "execution_count": 29,
      "outputs": [
        {
          "output_type": "execute_result",
          "data": {
            "text/plain": [
              "     beds  baths    size size_units  lot_size lot_size_units  zip_code  \\\n",
              "0       3    3.0  2850.0       sqft    4200.0           sqft     98119   \n",
              "1       4    5.0  3040.0       sqft    5002.0           sqft     98106   \n",
              "2       3    1.0  1290.0       sqft    6048.0           sqft     98125   \n",
              "4       3    3.5  1942.0       sqft    1603.0           sqft     98107   \n",
              "5       2    2.0   963.0       sqft    4753.0           sqft     98122   \n",
              "..    ...    ...     ...        ...       ...            ...       ...   \n",
              "497     2    2.5  1250.0       sqft    1000.0           sqft     98107   \n",
              "499     2    1.5  1088.0       sqft    1807.0           sqft     98117   \n",
              "501     3    2.5  1390.0       sqft    1570.0           sqft     98126   \n",
              "503     5    5.0  3010.0       sqft    4887.0           sqft     98115   \n",
              "504     3    2.0  1301.0       sqft    3000.0           sqft     98103   \n",
              "\n",
              "         price  \n",
              "0    1175000.0  \n",
              "1    1057500.0  \n",
              "2     799000.0  \n",
              "4    1187000.0  \n",
              "5     701000.0  \n",
              "..         ...  \n",
              "497   770000.0  \n",
              "499   628000.0  \n",
              "501   575000.0  \n",
              "503  1807000.0  \n",
              "504   895000.0  \n",
              "\n",
              "[369 rows x 8 columns]"
            ],
            "text/html": [
              "\n",
              "  <div id=\"df-b8809542-ab67-4de6-a957-15ee2827da16\">\n",
              "    <div class=\"colab-df-container\">\n",
              "      <div>\n",
              "<style scoped>\n",
              "    .dataframe tbody tr th:only-of-type {\n",
              "        vertical-align: middle;\n",
              "    }\n",
              "\n",
              "    .dataframe tbody tr th {\n",
              "        vertical-align: top;\n",
              "    }\n",
              "\n",
              "    .dataframe thead th {\n",
              "        text-align: right;\n",
              "    }\n",
              "</style>\n",
              "<table border=\"1\" class=\"dataframe\">\n",
              "  <thead>\n",
              "    <tr style=\"text-align: right;\">\n",
              "      <th></th>\n",
              "      <th>beds</th>\n",
              "      <th>baths</th>\n",
              "      <th>size</th>\n",
              "      <th>size_units</th>\n",
              "      <th>lot_size</th>\n",
              "      <th>lot_size_units</th>\n",
              "      <th>zip_code</th>\n",
              "      <th>price</th>\n",
              "    </tr>\n",
              "  </thead>\n",
              "  <tbody>\n",
              "    <tr>\n",
              "      <th>0</th>\n",
              "      <td>3</td>\n",
              "      <td>3.0</td>\n",
              "      <td>2850.0</td>\n",
              "      <td>sqft</td>\n",
              "      <td>4200.0</td>\n",
              "      <td>sqft</td>\n",
              "      <td>98119</td>\n",
              "      <td>1175000.0</td>\n",
              "    </tr>\n",
              "    <tr>\n",
              "      <th>1</th>\n",
              "      <td>4</td>\n",
              "      <td>5.0</td>\n",
              "      <td>3040.0</td>\n",
              "      <td>sqft</td>\n",
              "      <td>5002.0</td>\n",
              "      <td>sqft</td>\n",
              "      <td>98106</td>\n",
              "      <td>1057500.0</td>\n",
              "    </tr>\n",
              "    <tr>\n",
              "      <th>2</th>\n",
              "      <td>3</td>\n",
              "      <td>1.0</td>\n",
              "      <td>1290.0</td>\n",
              "      <td>sqft</td>\n",
              "      <td>6048.0</td>\n",
              "      <td>sqft</td>\n",
              "      <td>98125</td>\n",
              "      <td>799000.0</td>\n",
              "    </tr>\n",
              "    <tr>\n",
              "      <th>4</th>\n",
              "      <td>3</td>\n",
              "      <td>3.5</td>\n",
              "      <td>1942.0</td>\n",
              "      <td>sqft</td>\n",
              "      <td>1603.0</td>\n",
              "      <td>sqft</td>\n",
              "      <td>98107</td>\n",
              "      <td>1187000.0</td>\n",
              "    </tr>\n",
              "    <tr>\n",
              "      <th>5</th>\n",
              "      <td>2</td>\n",
              "      <td>2.0</td>\n",
              "      <td>963.0</td>\n",
              "      <td>sqft</td>\n",
              "      <td>4753.0</td>\n",
              "      <td>sqft</td>\n",
              "      <td>98122</td>\n",
              "      <td>701000.0</td>\n",
              "    </tr>\n",
              "    <tr>\n",
              "      <th>...</th>\n",
              "      <td>...</td>\n",
              "      <td>...</td>\n",
              "      <td>...</td>\n",
              "      <td>...</td>\n",
              "      <td>...</td>\n",
              "      <td>...</td>\n",
              "      <td>...</td>\n",
              "      <td>...</td>\n",
              "    </tr>\n",
              "    <tr>\n",
              "      <th>497</th>\n",
              "      <td>2</td>\n",
              "      <td>2.5</td>\n",
              "      <td>1250.0</td>\n",
              "      <td>sqft</td>\n",
              "      <td>1000.0</td>\n",
              "      <td>sqft</td>\n",
              "      <td>98107</td>\n",
              "      <td>770000.0</td>\n",
              "    </tr>\n",
              "    <tr>\n",
              "      <th>499</th>\n",
              "      <td>2</td>\n",
              "      <td>1.5</td>\n",
              "      <td>1088.0</td>\n",
              "      <td>sqft</td>\n",
              "      <td>1807.0</td>\n",
              "      <td>sqft</td>\n",
              "      <td>98117</td>\n",
              "      <td>628000.0</td>\n",
              "    </tr>\n",
              "    <tr>\n",
              "      <th>501</th>\n",
              "      <td>3</td>\n",
              "      <td>2.5</td>\n",
              "      <td>1390.0</td>\n",
              "      <td>sqft</td>\n",
              "      <td>1570.0</td>\n",
              "      <td>sqft</td>\n",
              "      <td>98126</td>\n",
              "      <td>575000.0</td>\n",
              "    </tr>\n",
              "    <tr>\n",
              "      <th>503</th>\n",
              "      <td>5</td>\n",
              "      <td>5.0</td>\n",
              "      <td>3010.0</td>\n",
              "      <td>sqft</td>\n",
              "      <td>4887.0</td>\n",
              "      <td>sqft</td>\n",
              "      <td>98115</td>\n",
              "      <td>1807000.0</td>\n",
              "    </tr>\n",
              "    <tr>\n",
              "      <th>504</th>\n",
              "      <td>3</td>\n",
              "      <td>2.0</td>\n",
              "      <td>1301.0</td>\n",
              "      <td>sqft</td>\n",
              "      <td>3000.0</td>\n",
              "      <td>sqft</td>\n",
              "      <td>98103</td>\n",
              "      <td>895000.0</td>\n",
              "    </tr>\n",
              "  </tbody>\n",
              "</table>\n",
              "<p>369 rows × 8 columns</p>\n",
              "</div>\n",
              "      <button class=\"colab-df-convert\" onclick=\"convertToInteractive('df-b8809542-ab67-4de6-a957-15ee2827da16')\"\n",
              "              title=\"Convert this dataframe to an interactive table.\"\n",
              "              style=\"display:none;\">\n",
              "        \n",
              "  <svg xmlns=\"http://www.w3.org/2000/svg\" height=\"24px\"viewBox=\"0 0 24 24\"\n",
              "       width=\"24px\">\n",
              "    <path d=\"M0 0h24v24H0V0z\" fill=\"none\"/>\n",
              "    <path d=\"M18.56 5.44l.94 2.06.94-2.06 2.06-.94-2.06-.94-.94-2.06-.94 2.06-2.06.94zm-11 1L8.5 8.5l.94-2.06 2.06-.94-2.06-.94L8.5 2.5l-.94 2.06-2.06.94zm10 10l.94 2.06.94-2.06 2.06-.94-2.06-.94-.94-2.06-.94 2.06-2.06.94z\"/><path d=\"M17.41 7.96l-1.37-1.37c-.4-.4-.92-.59-1.43-.59-.52 0-1.04.2-1.43.59L10.3 9.45l-7.72 7.72c-.78.78-.78 2.05 0 2.83L4 21.41c.39.39.9.59 1.41.59.51 0 1.02-.2 1.41-.59l7.78-7.78 2.81-2.81c.8-.78.8-2.07 0-2.86zM5.41 20L4 18.59l7.72-7.72 1.47 1.35L5.41 20z\"/>\n",
              "  </svg>\n",
              "      </button>\n",
              "      \n",
              "  <style>\n",
              "    .colab-df-container {\n",
              "      display:flex;\n",
              "      flex-wrap:wrap;\n",
              "      gap: 12px;\n",
              "    }\n",
              "\n",
              "    .colab-df-convert {\n",
              "      background-color: #E8F0FE;\n",
              "      border: none;\n",
              "      border-radius: 50%;\n",
              "      cursor: pointer;\n",
              "      display: none;\n",
              "      fill: #1967D2;\n",
              "      height: 32px;\n",
              "      padding: 0 0 0 0;\n",
              "      width: 32px;\n",
              "    }\n",
              "\n",
              "    .colab-df-convert:hover {\n",
              "      background-color: #E2EBFA;\n",
              "      box-shadow: 0px 1px 2px rgba(60, 64, 67, 0.3), 0px 1px 3px 1px rgba(60, 64, 67, 0.15);\n",
              "      fill: #174EA6;\n",
              "    }\n",
              "\n",
              "    [theme=dark] .colab-df-convert {\n",
              "      background-color: #3B4455;\n",
              "      fill: #D2E3FC;\n",
              "    }\n",
              "\n",
              "    [theme=dark] .colab-df-convert:hover {\n",
              "      background-color: #434B5C;\n",
              "      box-shadow: 0px 1px 3px 1px rgba(0, 0, 0, 0.15);\n",
              "      filter: drop-shadow(0px 1px 2px rgba(0, 0, 0, 0.3));\n",
              "      fill: #FFFFFF;\n",
              "    }\n",
              "  </style>\n",
              "\n",
              "      <script>\n",
              "        const buttonEl =\n",
              "          document.querySelector('#df-b8809542-ab67-4de6-a957-15ee2827da16 button.colab-df-convert');\n",
              "        buttonEl.style.display =\n",
              "          google.colab.kernel.accessAllowed ? 'block' : 'none';\n",
              "\n",
              "        async function convertToInteractive(key) {\n",
              "          const element = document.querySelector('#df-b8809542-ab67-4de6-a957-15ee2827da16');\n",
              "          const dataTable =\n",
              "            await google.colab.kernel.invokeFunction('convertToInteractive',\n",
              "                                                     [key], {});\n",
              "          if (!dataTable) return;\n",
              "\n",
              "          const docLinkHtml = 'Like what you see? Visit the ' +\n",
              "            '<a target=\"_blank\" href=https://colab.research.google.com/notebooks/data_table.ipynb>data table notebook</a>'\n",
              "            + ' to learn more about interactive tables.';\n",
              "          element.innerHTML = '';\n",
              "          dataTable['output_type'] = 'display_data';\n",
              "          await google.colab.output.renderOutput(dataTable, element);\n",
              "          const docLink = document.createElement('div');\n",
              "          docLink.innerHTML = docLinkHtml;\n",
              "          element.appendChild(docLink);\n",
              "        }\n",
              "      </script>\n",
              "    </div>\n",
              "  </div>\n",
              "  "
            ]
          },
          "metadata": {},
          "execution_count": 29
        }
      ]
    },
    {
      "cell_type": "code",
      "source": [
        "concat2 = [df_acre2,df_sqft2]\n",
        "\n",
        "df_test = pd.concat(concat2)"
      ],
      "metadata": {
        "id": "nlIQz1BgLZSF"
      },
      "execution_count": 30,
      "outputs": []
    },
    {
      "cell_type": "code",
      "source": [
        "df_test.head(10)"
      ],
      "metadata": {
        "colab": {
          "base_uri": "https://localhost:8080/",
          "height": 363
        },
        "id": "vr48xdwCLdrW",
        "outputId": "19f7323b-b1ce-4b8e-9909-fe52ae8a482c"
      },
      "execution_count": 31,
      "outputs": [
        {
          "output_type": "execute_result",
          "data": {
            "text/plain": [
              "    beds  baths    size size_units  lot_size lot_size_units  zip_code  \\\n",
              "3      3    2.0  2360.0       sqft   12196.8           acre     98188   \n",
              "13     2    2.0  1800.0       sqft   31363.2           acre     98199   \n",
              "15     2    2.0  2241.0       sqft   47480.4           acre     98112   \n",
              "20     4    2.0  1690.0       sqft   13939.2           acre     98168   \n",
              "30     2    2.0   964.0       sqft  172933.2           acre     98126   \n",
              "40     2    2.5  2760.0       sqft  133293.6           acre     98105   \n",
              "44     4    3.5  4027.0       sqft   13068.0           acre     98199   \n",
              "52     1    1.0   718.0       sqft   28314.0           acre     98115   \n",
              "61     3    1.5  1460.0       sqft   10890.0           acre     98168   \n",
              "64     4    2.5  3200.0       sqft   12196.8           acre     98118   \n",
              "\n",
              "        price  \n",
              "3    565000.0  \n",
              "13   699950.0  \n",
              "15  2450000.0  \n",
              "20   550000.0  \n",
              "30   512500.0  \n",
              "40  1440000.0  \n",
              "44  2170000.0  \n",
              "52   525000.0  \n",
              "61   410000.0  \n",
              "64  1100000.0  "
            ],
            "text/html": [
              "\n",
              "  <div id=\"df-04fb3d68-667c-403b-a0af-baccdcd90fbf\">\n",
              "    <div class=\"colab-df-container\">\n",
              "      <div>\n",
              "<style scoped>\n",
              "    .dataframe tbody tr th:only-of-type {\n",
              "        vertical-align: middle;\n",
              "    }\n",
              "\n",
              "    .dataframe tbody tr th {\n",
              "        vertical-align: top;\n",
              "    }\n",
              "\n",
              "    .dataframe thead th {\n",
              "        text-align: right;\n",
              "    }\n",
              "</style>\n",
              "<table border=\"1\" class=\"dataframe\">\n",
              "  <thead>\n",
              "    <tr style=\"text-align: right;\">\n",
              "      <th></th>\n",
              "      <th>beds</th>\n",
              "      <th>baths</th>\n",
              "      <th>size</th>\n",
              "      <th>size_units</th>\n",
              "      <th>lot_size</th>\n",
              "      <th>lot_size_units</th>\n",
              "      <th>zip_code</th>\n",
              "      <th>price</th>\n",
              "    </tr>\n",
              "  </thead>\n",
              "  <tbody>\n",
              "    <tr>\n",
              "      <th>3</th>\n",
              "      <td>3</td>\n",
              "      <td>2.0</td>\n",
              "      <td>2360.0</td>\n",
              "      <td>sqft</td>\n",
              "      <td>12196.8</td>\n",
              "      <td>acre</td>\n",
              "      <td>98188</td>\n",
              "      <td>565000.0</td>\n",
              "    </tr>\n",
              "    <tr>\n",
              "      <th>13</th>\n",
              "      <td>2</td>\n",
              "      <td>2.0</td>\n",
              "      <td>1800.0</td>\n",
              "      <td>sqft</td>\n",
              "      <td>31363.2</td>\n",
              "      <td>acre</td>\n",
              "      <td>98199</td>\n",
              "      <td>699950.0</td>\n",
              "    </tr>\n",
              "    <tr>\n",
              "      <th>15</th>\n",
              "      <td>2</td>\n",
              "      <td>2.0</td>\n",
              "      <td>2241.0</td>\n",
              "      <td>sqft</td>\n",
              "      <td>47480.4</td>\n",
              "      <td>acre</td>\n",
              "      <td>98112</td>\n",
              "      <td>2450000.0</td>\n",
              "    </tr>\n",
              "    <tr>\n",
              "      <th>20</th>\n",
              "      <td>4</td>\n",
              "      <td>2.0</td>\n",
              "      <td>1690.0</td>\n",
              "      <td>sqft</td>\n",
              "      <td>13939.2</td>\n",
              "      <td>acre</td>\n",
              "      <td>98168</td>\n",
              "      <td>550000.0</td>\n",
              "    </tr>\n",
              "    <tr>\n",
              "      <th>30</th>\n",
              "      <td>2</td>\n",
              "      <td>2.0</td>\n",
              "      <td>964.0</td>\n",
              "      <td>sqft</td>\n",
              "      <td>172933.2</td>\n",
              "      <td>acre</td>\n",
              "      <td>98126</td>\n",
              "      <td>512500.0</td>\n",
              "    </tr>\n",
              "    <tr>\n",
              "      <th>40</th>\n",
              "      <td>2</td>\n",
              "      <td>2.5</td>\n",
              "      <td>2760.0</td>\n",
              "      <td>sqft</td>\n",
              "      <td>133293.6</td>\n",
              "      <td>acre</td>\n",
              "      <td>98105</td>\n",
              "      <td>1440000.0</td>\n",
              "    </tr>\n",
              "    <tr>\n",
              "      <th>44</th>\n",
              "      <td>4</td>\n",
              "      <td>3.5</td>\n",
              "      <td>4027.0</td>\n",
              "      <td>sqft</td>\n",
              "      <td>13068.0</td>\n",
              "      <td>acre</td>\n",
              "      <td>98199</td>\n",
              "      <td>2170000.0</td>\n",
              "    </tr>\n",
              "    <tr>\n",
              "      <th>52</th>\n",
              "      <td>1</td>\n",
              "      <td>1.0</td>\n",
              "      <td>718.0</td>\n",
              "      <td>sqft</td>\n",
              "      <td>28314.0</td>\n",
              "      <td>acre</td>\n",
              "      <td>98115</td>\n",
              "      <td>525000.0</td>\n",
              "    </tr>\n",
              "    <tr>\n",
              "      <th>61</th>\n",
              "      <td>3</td>\n",
              "      <td>1.5</td>\n",
              "      <td>1460.0</td>\n",
              "      <td>sqft</td>\n",
              "      <td>10890.0</td>\n",
              "      <td>acre</td>\n",
              "      <td>98168</td>\n",
              "      <td>410000.0</td>\n",
              "    </tr>\n",
              "    <tr>\n",
              "      <th>64</th>\n",
              "      <td>4</td>\n",
              "      <td>2.5</td>\n",
              "      <td>3200.0</td>\n",
              "      <td>sqft</td>\n",
              "      <td>12196.8</td>\n",
              "      <td>acre</td>\n",
              "      <td>98118</td>\n",
              "      <td>1100000.0</td>\n",
              "    </tr>\n",
              "  </tbody>\n",
              "</table>\n",
              "</div>\n",
              "      <button class=\"colab-df-convert\" onclick=\"convertToInteractive('df-04fb3d68-667c-403b-a0af-baccdcd90fbf')\"\n",
              "              title=\"Convert this dataframe to an interactive table.\"\n",
              "              style=\"display:none;\">\n",
              "        \n",
              "  <svg xmlns=\"http://www.w3.org/2000/svg\" height=\"24px\"viewBox=\"0 0 24 24\"\n",
              "       width=\"24px\">\n",
              "    <path d=\"M0 0h24v24H0V0z\" fill=\"none\"/>\n",
              "    <path d=\"M18.56 5.44l.94 2.06.94-2.06 2.06-.94-2.06-.94-.94-2.06-.94 2.06-2.06.94zm-11 1L8.5 8.5l.94-2.06 2.06-.94-2.06-.94L8.5 2.5l-.94 2.06-2.06.94zm10 10l.94 2.06.94-2.06 2.06-.94-2.06-.94-.94-2.06-.94 2.06-2.06.94z\"/><path d=\"M17.41 7.96l-1.37-1.37c-.4-.4-.92-.59-1.43-.59-.52 0-1.04.2-1.43.59L10.3 9.45l-7.72 7.72c-.78.78-.78 2.05 0 2.83L4 21.41c.39.39.9.59 1.41.59.51 0 1.02-.2 1.41-.59l7.78-7.78 2.81-2.81c.8-.78.8-2.07 0-2.86zM5.41 20L4 18.59l7.72-7.72 1.47 1.35L5.41 20z\"/>\n",
              "  </svg>\n",
              "      </button>\n",
              "      \n",
              "  <style>\n",
              "    .colab-df-container {\n",
              "      display:flex;\n",
              "      flex-wrap:wrap;\n",
              "      gap: 12px;\n",
              "    }\n",
              "\n",
              "    .colab-df-convert {\n",
              "      background-color: #E8F0FE;\n",
              "      border: none;\n",
              "      border-radius: 50%;\n",
              "      cursor: pointer;\n",
              "      display: none;\n",
              "      fill: #1967D2;\n",
              "      height: 32px;\n",
              "      padding: 0 0 0 0;\n",
              "      width: 32px;\n",
              "    }\n",
              "\n",
              "    .colab-df-convert:hover {\n",
              "      background-color: #E2EBFA;\n",
              "      box-shadow: 0px 1px 2px rgba(60, 64, 67, 0.3), 0px 1px 3px 1px rgba(60, 64, 67, 0.15);\n",
              "      fill: #174EA6;\n",
              "    }\n",
              "\n",
              "    [theme=dark] .colab-df-convert {\n",
              "      background-color: #3B4455;\n",
              "      fill: #D2E3FC;\n",
              "    }\n",
              "\n",
              "    [theme=dark] .colab-df-convert:hover {\n",
              "      background-color: #434B5C;\n",
              "      box-shadow: 0px 1px 3px 1px rgba(0, 0, 0, 0.15);\n",
              "      filter: drop-shadow(0px 1px 2px rgba(0, 0, 0, 0.3));\n",
              "      fill: #FFFFFF;\n",
              "    }\n",
              "  </style>\n",
              "\n",
              "      <script>\n",
              "        const buttonEl =\n",
              "          document.querySelector('#df-04fb3d68-667c-403b-a0af-baccdcd90fbf button.colab-df-convert');\n",
              "        buttonEl.style.display =\n",
              "          google.colab.kernel.accessAllowed ? 'block' : 'none';\n",
              "\n",
              "        async function convertToInteractive(key) {\n",
              "          const element = document.querySelector('#df-04fb3d68-667c-403b-a0af-baccdcd90fbf');\n",
              "          const dataTable =\n",
              "            await google.colab.kernel.invokeFunction('convertToInteractive',\n",
              "                                                     [key], {});\n",
              "          if (!dataTable) return;\n",
              "\n",
              "          const docLinkHtml = 'Like what you see? Visit the ' +\n",
              "            '<a target=\"_blank\" href=https://colab.research.google.com/notebooks/data_table.ipynb>data table notebook</a>'\n",
              "            + ' to learn more about interactive tables.';\n",
              "          element.innerHTML = '';\n",
              "          dataTable['output_type'] = 'display_data';\n",
              "          await google.colab.output.renderOutput(dataTable, element);\n",
              "          const docLink = document.createElement('div');\n",
              "          docLink.innerHTML = docLinkHtml;\n",
              "          element.appendChild(docLink);\n",
              "        }\n",
              "      </script>\n",
              "    </div>\n",
              "  </div>\n",
              "  "
            ]
          },
          "metadata": {},
          "execution_count": 31
        }
      ]
    },
    {
      "cell_type": "code",
      "source": [
        "df_test = df_test[['beds', 'baths', 'size', 'lot_size','zip_code', 'price']]"
      ],
      "metadata": {
        "id": "XImmbkwpLh2Q"
      },
      "execution_count": 32,
      "outputs": []
    },
    {
      "cell_type": "code",
      "source": [
        "df_test.head(10)"
      ],
      "metadata": {
        "colab": {
          "base_uri": "https://localhost:8080/",
          "height": 363
        },
        "id": "vwMoh3JXLrk1",
        "outputId": "64aa044f-e9c6-428a-a468-c98c269ad54e"
      },
      "execution_count": 33,
      "outputs": [
        {
          "output_type": "execute_result",
          "data": {
            "text/plain": [
              "    beds  baths    size  lot_size  zip_code      price\n",
              "3      3    2.0  2360.0   12196.8     98188   565000.0\n",
              "13     2    2.0  1800.0   31363.2     98199   699950.0\n",
              "15     2    2.0  2241.0   47480.4     98112  2450000.0\n",
              "20     4    2.0  1690.0   13939.2     98168   550000.0\n",
              "30     2    2.0   964.0  172933.2     98126   512500.0\n",
              "40     2    2.5  2760.0  133293.6     98105  1440000.0\n",
              "44     4    3.5  4027.0   13068.0     98199  2170000.0\n",
              "52     1    1.0   718.0   28314.0     98115   525000.0\n",
              "61     3    1.5  1460.0   10890.0     98168   410000.0\n",
              "64     4    2.5  3200.0   12196.8     98118  1100000.0"
            ],
            "text/html": [
              "\n",
              "  <div id=\"df-007d69c3-dc96-402f-bfcd-895201a94b02\">\n",
              "    <div class=\"colab-df-container\">\n",
              "      <div>\n",
              "<style scoped>\n",
              "    .dataframe tbody tr th:only-of-type {\n",
              "        vertical-align: middle;\n",
              "    }\n",
              "\n",
              "    .dataframe tbody tr th {\n",
              "        vertical-align: top;\n",
              "    }\n",
              "\n",
              "    .dataframe thead th {\n",
              "        text-align: right;\n",
              "    }\n",
              "</style>\n",
              "<table border=\"1\" class=\"dataframe\">\n",
              "  <thead>\n",
              "    <tr style=\"text-align: right;\">\n",
              "      <th></th>\n",
              "      <th>beds</th>\n",
              "      <th>baths</th>\n",
              "      <th>size</th>\n",
              "      <th>lot_size</th>\n",
              "      <th>zip_code</th>\n",
              "      <th>price</th>\n",
              "    </tr>\n",
              "  </thead>\n",
              "  <tbody>\n",
              "    <tr>\n",
              "      <th>3</th>\n",
              "      <td>3</td>\n",
              "      <td>2.0</td>\n",
              "      <td>2360.0</td>\n",
              "      <td>12196.8</td>\n",
              "      <td>98188</td>\n",
              "      <td>565000.0</td>\n",
              "    </tr>\n",
              "    <tr>\n",
              "      <th>13</th>\n",
              "      <td>2</td>\n",
              "      <td>2.0</td>\n",
              "      <td>1800.0</td>\n",
              "      <td>31363.2</td>\n",
              "      <td>98199</td>\n",
              "      <td>699950.0</td>\n",
              "    </tr>\n",
              "    <tr>\n",
              "      <th>15</th>\n",
              "      <td>2</td>\n",
              "      <td>2.0</td>\n",
              "      <td>2241.0</td>\n",
              "      <td>47480.4</td>\n",
              "      <td>98112</td>\n",
              "      <td>2450000.0</td>\n",
              "    </tr>\n",
              "    <tr>\n",
              "      <th>20</th>\n",
              "      <td>4</td>\n",
              "      <td>2.0</td>\n",
              "      <td>1690.0</td>\n",
              "      <td>13939.2</td>\n",
              "      <td>98168</td>\n",
              "      <td>550000.0</td>\n",
              "    </tr>\n",
              "    <tr>\n",
              "      <th>30</th>\n",
              "      <td>2</td>\n",
              "      <td>2.0</td>\n",
              "      <td>964.0</td>\n",
              "      <td>172933.2</td>\n",
              "      <td>98126</td>\n",
              "      <td>512500.0</td>\n",
              "    </tr>\n",
              "    <tr>\n",
              "      <th>40</th>\n",
              "      <td>2</td>\n",
              "      <td>2.5</td>\n",
              "      <td>2760.0</td>\n",
              "      <td>133293.6</td>\n",
              "      <td>98105</td>\n",
              "      <td>1440000.0</td>\n",
              "    </tr>\n",
              "    <tr>\n",
              "      <th>44</th>\n",
              "      <td>4</td>\n",
              "      <td>3.5</td>\n",
              "      <td>4027.0</td>\n",
              "      <td>13068.0</td>\n",
              "      <td>98199</td>\n",
              "      <td>2170000.0</td>\n",
              "    </tr>\n",
              "    <tr>\n",
              "      <th>52</th>\n",
              "      <td>1</td>\n",
              "      <td>1.0</td>\n",
              "      <td>718.0</td>\n",
              "      <td>28314.0</td>\n",
              "      <td>98115</td>\n",
              "      <td>525000.0</td>\n",
              "    </tr>\n",
              "    <tr>\n",
              "      <th>61</th>\n",
              "      <td>3</td>\n",
              "      <td>1.5</td>\n",
              "      <td>1460.0</td>\n",
              "      <td>10890.0</td>\n",
              "      <td>98168</td>\n",
              "      <td>410000.0</td>\n",
              "    </tr>\n",
              "    <tr>\n",
              "      <th>64</th>\n",
              "      <td>4</td>\n",
              "      <td>2.5</td>\n",
              "      <td>3200.0</td>\n",
              "      <td>12196.8</td>\n",
              "      <td>98118</td>\n",
              "      <td>1100000.0</td>\n",
              "    </tr>\n",
              "  </tbody>\n",
              "</table>\n",
              "</div>\n",
              "      <button class=\"colab-df-convert\" onclick=\"convertToInteractive('df-007d69c3-dc96-402f-bfcd-895201a94b02')\"\n",
              "              title=\"Convert this dataframe to an interactive table.\"\n",
              "              style=\"display:none;\">\n",
              "        \n",
              "  <svg xmlns=\"http://www.w3.org/2000/svg\" height=\"24px\"viewBox=\"0 0 24 24\"\n",
              "       width=\"24px\">\n",
              "    <path d=\"M0 0h24v24H0V0z\" fill=\"none\"/>\n",
              "    <path d=\"M18.56 5.44l.94 2.06.94-2.06 2.06-.94-2.06-.94-.94-2.06-.94 2.06-2.06.94zm-11 1L8.5 8.5l.94-2.06 2.06-.94-2.06-.94L8.5 2.5l-.94 2.06-2.06.94zm10 10l.94 2.06.94-2.06 2.06-.94-2.06-.94-.94-2.06-.94 2.06-2.06.94z\"/><path d=\"M17.41 7.96l-1.37-1.37c-.4-.4-.92-.59-1.43-.59-.52 0-1.04.2-1.43.59L10.3 9.45l-7.72 7.72c-.78.78-.78 2.05 0 2.83L4 21.41c.39.39.9.59 1.41.59.51 0 1.02-.2 1.41-.59l7.78-7.78 2.81-2.81c.8-.78.8-2.07 0-2.86zM5.41 20L4 18.59l7.72-7.72 1.47 1.35L5.41 20z\"/>\n",
              "  </svg>\n",
              "      </button>\n",
              "      \n",
              "  <style>\n",
              "    .colab-df-container {\n",
              "      display:flex;\n",
              "      flex-wrap:wrap;\n",
              "      gap: 12px;\n",
              "    }\n",
              "\n",
              "    .colab-df-convert {\n",
              "      background-color: #E8F0FE;\n",
              "      border: none;\n",
              "      border-radius: 50%;\n",
              "      cursor: pointer;\n",
              "      display: none;\n",
              "      fill: #1967D2;\n",
              "      height: 32px;\n",
              "      padding: 0 0 0 0;\n",
              "      width: 32px;\n",
              "    }\n",
              "\n",
              "    .colab-df-convert:hover {\n",
              "      background-color: #E2EBFA;\n",
              "      box-shadow: 0px 1px 2px rgba(60, 64, 67, 0.3), 0px 1px 3px 1px rgba(60, 64, 67, 0.15);\n",
              "      fill: #174EA6;\n",
              "    }\n",
              "\n",
              "    [theme=dark] .colab-df-convert {\n",
              "      background-color: #3B4455;\n",
              "      fill: #D2E3FC;\n",
              "    }\n",
              "\n",
              "    [theme=dark] .colab-df-convert:hover {\n",
              "      background-color: #434B5C;\n",
              "      box-shadow: 0px 1px 3px 1px rgba(0, 0, 0, 0.15);\n",
              "      filter: drop-shadow(0px 1px 2px rgba(0, 0, 0, 0.3));\n",
              "      fill: #FFFFFF;\n",
              "    }\n",
              "  </style>\n",
              "\n",
              "      <script>\n",
              "        const buttonEl =\n",
              "          document.querySelector('#df-007d69c3-dc96-402f-bfcd-895201a94b02 button.colab-df-convert');\n",
              "        buttonEl.style.display =\n",
              "          google.colab.kernel.accessAllowed ? 'block' : 'none';\n",
              "\n",
              "        async function convertToInteractive(key) {\n",
              "          const element = document.querySelector('#df-007d69c3-dc96-402f-bfcd-895201a94b02');\n",
              "          const dataTable =\n",
              "            await google.colab.kernel.invokeFunction('convertToInteractive',\n",
              "                                                     [key], {});\n",
              "          if (!dataTable) return;\n",
              "\n",
              "          const docLinkHtml = 'Like what you see? Visit the ' +\n",
              "            '<a target=\"_blank\" href=https://colab.research.google.com/notebooks/data_table.ipynb>data table notebook</a>'\n",
              "            + ' to learn more about interactive tables.';\n",
              "          element.innerHTML = '';\n",
              "          dataTable['output_type'] = 'display_data';\n",
              "          await google.colab.output.renderOutput(dataTable, element);\n",
              "          const docLink = document.createElement('div');\n",
              "          docLink.innerHTML = docLinkHtml;\n",
              "          element.appendChild(docLink);\n",
              "        }\n",
              "      </script>\n",
              "    </div>\n",
              "  </div>\n",
              "  "
            ]
          },
          "metadata": {},
          "execution_count": 33
        }
      ]
    },
    {
      "cell_type": "code",
      "source": [
        "df_test.dtypes"
      ],
      "metadata": {
        "colab": {
          "base_uri": "https://localhost:8080/"
        },
        "id": "-7oHiIY7LvFz",
        "outputId": "0e1b9573-0bb3-441d-b552-7234f315e7e5"
      },
      "execution_count": 34,
      "outputs": [
        {
          "output_type": "execute_result",
          "data": {
            "text/plain": [
              "beds          int64\n",
              "baths       float64\n",
              "size        float64\n",
              "lot_size    float64\n",
              "zip_code      int64\n",
              "price       float64\n",
              "dtype: object"
            ]
          },
          "metadata": {},
          "execution_count": 34
        }
      ]
    },
    {
      "cell_type": "code",
      "source": [
        "df_test['zip_code'] = df_test['zip_code'].astype(str)"
      ],
      "metadata": {
        "id": "bLbDtKwHLzxN"
      },
      "execution_count": 35,
      "outputs": []
    },
    {
      "cell_type": "code",
      "source": [
        "df_test.dtypes"
      ],
      "metadata": {
        "colab": {
          "base_uri": "https://localhost:8080/"
        },
        "id": "uRcekl_cL6sn",
        "outputId": "9c8d4459-105d-401b-a0d5-8fd300e7189c"
      },
      "execution_count": 36,
      "outputs": [
        {
          "output_type": "execute_result",
          "data": {
            "text/plain": [
              "beds          int64\n",
              "baths       float64\n",
              "size        float64\n",
              "lot_size    float64\n",
              "zip_code     object\n",
              "price       float64\n",
              "dtype: object"
            ]
          },
          "metadata": {},
          "execution_count": 36
        }
      ]
    },
    {
      "cell_type": "code",
      "source": [
        "concat3 = [df_train, df_test]\n",
        "\n",
        "df = pd.concat(concat3)"
      ],
      "metadata": {
        "id": "2VEzUBvdL8Eg"
      },
      "execution_count": 37,
      "outputs": []
    },
    {
      "cell_type": "code",
      "source": [
        "df.head(10)"
      ],
      "metadata": {
        "colab": {
          "base_uri": "https://localhost:8080/",
          "height": 363
        },
        "id": "FjrLoUyXMw57",
        "outputId": "23eef242-16b4-459a-cb90-c17f6ba9fe45"
      },
      "execution_count": 38,
      "outputs": [
        {
          "output_type": "execute_result",
          "data": {
            "text/plain": [
              "    beds  baths    size  lot_size zip_code      price\n",
              "1      4    2.0  2240.0   13503.6    98106   915000.0\n",
              "5      2    2.0  1190.0   43560.0    98107   740000.0\n",
              "25     2    1.5   889.0   10018.8    98103   680000.0\n",
              "33     2    2.0   871.0   12632.4    98119   430000.0\n",
              "37     5    5.0  2510.0   11761.2    98133  1000000.0\n",
              "43     1    1.0   617.0   21344.4    98109   480000.0\n",
              "48     5    3.5  3590.0   15681.6    98136  2350000.0\n",
              "62     5    3.0  2320.0   11761.2    98168   560000.0\n",
              "70     4    3.5  2031.0   43560.0    98117  1480000.0\n",
              "74     6    3.5  8660.0   12196.8    98102  4100000.0"
            ],
            "text/html": [
              "\n",
              "  <div id=\"df-7b5db191-bcbd-4c15-a758-ef85e6d09409\">\n",
              "    <div class=\"colab-df-container\">\n",
              "      <div>\n",
              "<style scoped>\n",
              "    .dataframe tbody tr th:only-of-type {\n",
              "        vertical-align: middle;\n",
              "    }\n",
              "\n",
              "    .dataframe tbody tr th {\n",
              "        vertical-align: top;\n",
              "    }\n",
              "\n",
              "    .dataframe thead th {\n",
              "        text-align: right;\n",
              "    }\n",
              "</style>\n",
              "<table border=\"1\" class=\"dataframe\">\n",
              "  <thead>\n",
              "    <tr style=\"text-align: right;\">\n",
              "      <th></th>\n",
              "      <th>beds</th>\n",
              "      <th>baths</th>\n",
              "      <th>size</th>\n",
              "      <th>lot_size</th>\n",
              "      <th>zip_code</th>\n",
              "      <th>price</th>\n",
              "    </tr>\n",
              "  </thead>\n",
              "  <tbody>\n",
              "    <tr>\n",
              "      <th>1</th>\n",
              "      <td>4</td>\n",
              "      <td>2.0</td>\n",
              "      <td>2240.0</td>\n",
              "      <td>13503.6</td>\n",
              "      <td>98106</td>\n",
              "      <td>915000.0</td>\n",
              "    </tr>\n",
              "    <tr>\n",
              "      <th>5</th>\n",
              "      <td>2</td>\n",
              "      <td>2.0</td>\n",
              "      <td>1190.0</td>\n",
              "      <td>43560.0</td>\n",
              "      <td>98107</td>\n",
              "      <td>740000.0</td>\n",
              "    </tr>\n",
              "    <tr>\n",
              "      <th>25</th>\n",
              "      <td>2</td>\n",
              "      <td>1.5</td>\n",
              "      <td>889.0</td>\n",
              "      <td>10018.8</td>\n",
              "      <td>98103</td>\n",
              "      <td>680000.0</td>\n",
              "    </tr>\n",
              "    <tr>\n",
              "      <th>33</th>\n",
              "      <td>2</td>\n",
              "      <td>2.0</td>\n",
              "      <td>871.0</td>\n",
              "      <td>12632.4</td>\n",
              "      <td>98119</td>\n",
              "      <td>430000.0</td>\n",
              "    </tr>\n",
              "    <tr>\n",
              "      <th>37</th>\n",
              "      <td>5</td>\n",
              "      <td>5.0</td>\n",
              "      <td>2510.0</td>\n",
              "      <td>11761.2</td>\n",
              "      <td>98133</td>\n",
              "      <td>1000000.0</td>\n",
              "    </tr>\n",
              "    <tr>\n",
              "      <th>43</th>\n",
              "      <td>1</td>\n",
              "      <td>1.0</td>\n",
              "      <td>617.0</td>\n",
              "      <td>21344.4</td>\n",
              "      <td>98109</td>\n",
              "      <td>480000.0</td>\n",
              "    </tr>\n",
              "    <tr>\n",
              "      <th>48</th>\n",
              "      <td>5</td>\n",
              "      <td>3.5</td>\n",
              "      <td>3590.0</td>\n",
              "      <td>15681.6</td>\n",
              "      <td>98136</td>\n",
              "      <td>2350000.0</td>\n",
              "    </tr>\n",
              "    <tr>\n",
              "      <th>62</th>\n",
              "      <td>5</td>\n",
              "      <td>3.0</td>\n",
              "      <td>2320.0</td>\n",
              "      <td>11761.2</td>\n",
              "      <td>98168</td>\n",
              "      <td>560000.0</td>\n",
              "    </tr>\n",
              "    <tr>\n",
              "      <th>70</th>\n",
              "      <td>4</td>\n",
              "      <td>3.5</td>\n",
              "      <td>2031.0</td>\n",
              "      <td>43560.0</td>\n",
              "      <td>98117</td>\n",
              "      <td>1480000.0</td>\n",
              "    </tr>\n",
              "    <tr>\n",
              "      <th>74</th>\n",
              "      <td>6</td>\n",
              "      <td>3.5</td>\n",
              "      <td>8660.0</td>\n",
              "      <td>12196.8</td>\n",
              "      <td>98102</td>\n",
              "      <td>4100000.0</td>\n",
              "    </tr>\n",
              "  </tbody>\n",
              "</table>\n",
              "</div>\n",
              "      <button class=\"colab-df-convert\" onclick=\"convertToInteractive('df-7b5db191-bcbd-4c15-a758-ef85e6d09409')\"\n",
              "              title=\"Convert this dataframe to an interactive table.\"\n",
              "              style=\"display:none;\">\n",
              "        \n",
              "  <svg xmlns=\"http://www.w3.org/2000/svg\" height=\"24px\"viewBox=\"0 0 24 24\"\n",
              "       width=\"24px\">\n",
              "    <path d=\"M0 0h24v24H0V0z\" fill=\"none\"/>\n",
              "    <path d=\"M18.56 5.44l.94 2.06.94-2.06 2.06-.94-2.06-.94-.94-2.06-.94 2.06-2.06.94zm-11 1L8.5 8.5l.94-2.06 2.06-.94-2.06-.94L8.5 2.5l-.94 2.06-2.06.94zm10 10l.94 2.06.94-2.06 2.06-.94-2.06-.94-.94-2.06-.94 2.06-2.06.94z\"/><path d=\"M17.41 7.96l-1.37-1.37c-.4-.4-.92-.59-1.43-.59-.52 0-1.04.2-1.43.59L10.3 9.45l-7.72 7.72c-.78.78-.78 2.05 0 2.83L4 21.41c.39.39.9.59 1.41.59.51 0 1.02-.2 1.41-.59l7.78-7.78 2.81-2.81c.8-.78.8-2.07 0-2.86zM5.41 20L4 18.59l7.72-7.72 1.47 1.35L5.41 20z\"/>\n",
              "  </svg>\n",
              "      </button>\n",
              "      \n",
              "  <style>\n",
              "    .colab-df-container {\n",
              "      display:flex;\n",
              "      flex-wrap:wrap;\n",
              "      gap: 12px;\n",
              "    }\n",
              "\n",
              "    .colab-df-convert {\n",
              "      background-color: #E8F0FE;\n",
              "      border: none;\n",
              "      border-radius: 50%;\n",
              "      cursor: pointer;\n",
              "      display: none;\n",
              "      fill: #1967D2;\n",
              "      height: 32px;\n",
              "      padding: 0 0 0 0;\n",
              "      width: 32px;\n",
              "    }\n",
              "\n",
              "    .colab-df-convert:hover {\n",
              "      background-color: #E2EBFA;\n",
              "      box-shadow: 0px 1px 2px rgba(60, 64, 67, 0.3), 0px 1px 3px 1px rgba(60, 64, 67, 0.15);\n",
              "      fill: #174EA6;\n",
              "    }\n",
              "\n",
              "    [theme=dark] .colab-df-convert {\n",
              "      background-color: #3B4455;\n",
              "      fill: #D2E3FC;\n",
              "    }\n",
              "\n",
              "    [theme=dark] .colab-df-convert:hover {\n",
              "      background-color: #434B5C;\n",
              "      box-shadow: 0px 1px 3px 1px rgba(0, 0, 0, 0.15);\n",
              "      filter: drop-shadow(0px 1px 2px rgba(0, 0, 0, 0.3));\n",
              "      fill: #FFFFFF;\n",
              "    }\n",
              "  </style>\n",
              "\n",
              "      <script>\n",
              "        const buttonEl =\n",
              "          document.querySelector('#df-7b5db191-bcbd-4c15-a758-ef85e6d09409 button.colab-df-convert');\n",
              "        buttonEl.style.display =\n",
              "          google.colab.kernel.accessAllowed ? 'block' : 'none';\n",
              "\n",
              "        async function convertToInteractive(key) {\n",
              "          const element = document.querySelector('#df-7b5db191-bcbd-4c15-a758-ef85e6d09409');\n",
              "          const dataTable =\n",
              "            await google.colab.kernel.invokeFunction('convertToInteractive',\n",
              "                                                     [key], {});\n",
              "          if (!dataTable) return;\n",
              "\n",
              "          const docLinkHtml = 'Like what you see? Visit the ' +\n",
              "            '<a target=\"_blank\" href=https://colab.research.google.com/notebooks/data_table.ipynb>data table notebook</a>'\n",
              "            + ' to learn more about interactive tables.';\n",
              "          element.innerHTML = '';\n",
              "          dataTable['output_type'] = 'display_data';\n",
              "          await google.colab.output.renderOutput(dataTable, element);\n",
              "          const docLink = document.createElement('div');\n",
              "          docLink.innerHTML = docLinkHtml;\n",
              "          element.appendChild(docLink);\n",
              "        }\n",
              "      </script>\n",
              "    </div>\n",
              "  </div>\n",
              "  "
            ]
          },
          "metadata": {},
          "execution_count": 38
        }
      ]
    },
    {
      "cell_type": "code",
      "source": [
        "import seaborn as sns"
      ],
      "metadata": {
        "id": "YzJcxEJkNcZp"
      },
      "execution_count": 39,
      "outputs": []
    },
    {
      "cell_type": "code",
      "source": [
        "df_corr = df.corr()\n",
        "plt.figure(figsize=(10,10))\n",
        "sns.heatmap(df_corr,annot=True,cmap='coolwarm')\n",
        "plt.show()"
      ],
      "metadata": {
        "colab": {
          "base_uri": "https://localhost:8080/",
          "height": 596
        },
        "id": "05oR6LO0NRAm",
        "outputId": "efa3a388-caf2-49a1-8cff-6ad5ce153945"
      },
      "execution_count": 40,
      "outputs": [
        {
          "output_type": "display_data",
          "data": {
            "text/plain": [
              "<Figure size 720x720 with 2 Axes>"
            ],
            "image/png": "[encoded data removed]"
          },
          "metadata": {
            "needs_background": "light"
          }
        }
      ]
    },
    {
      "cell_type": "code",
      "source": [
        "df.columns"
      ],
      "metadata": {
        "colab": {
          "base_uri": "https://localhost:8080/"
        },
        "id": "hMQ1DRplPF9B",
        "outputId": "5b4368f0-f405-4d8d-e97e-2f6bbffc361e"
      },
      "execution_count": 41,
      "outputs": [
        {
          "output_type": "execute_result",
          "data": {
            "text/plain": [
              "Index(['beds', 'baths', 'size', 'lot_size', 'zip_code', 'price'], dtype='object')"
            ]
          },
          "metadata": {},
          "execution_count": 41
        }
      ]
    },
    {
      "cell_type": "code",
      "source": [
        "df['price'].describe()"
      ],
      "metadata": {
        "colab": {
          "base_uri": "https://localhost:8080/"
        },
        "id": "RWlqJlv4PJJF",
        "outputId": "b0a44d4f-1919-46f8-abf3-08c41ef65a79"
      },
      "execution_count": 42,
      "outputs": [
        {
          "output_type": "execute_result",
          "data": {
            "text/plain": [
              "count    2.097000e+03\n",
              "mean     1.039809e+06\n",
              "std      9.415656e+05\n",
              "min      1.590000e+05\n",
              "25%      6.850000e+05\n",
              "50%      8.700000e+05\n",
              "75%      1.180000e+06\n",
              "max      2.500000e+07\n",
              "Name: price, dtype: float64"
            ]
          },
          "metadata": {},
          "execution_count": 42
        }
      ]
    },
    {
      "cell_type": "code",
      "source": [
        "sns.boxplot(x='price',data=df)\n",
        "plt.show()"
      ],
      "metadata": {
        "colab": {
          "base_uri": "https://localhost:8080/",
          "height": 279
        },
        "id": "LtlErH05PPLr",
        "outputId": "8f3e98eb-9fe9-4a14-d5e9-02257b131079"
      },
      "execution_count": 43,
      "outputs": [
        {
          "output_type": "display_data",
          "data": {
            "text/plain": [
              "<Figure size 432x288 with 1 Axes>"
            ],
            "image/png": "[encoded data removed]"
          },
          "metadata": {
            "needs_background": "light"
          }
        }
      ]
    },
    {
      "cell_type": "code",
      "source": [
        "#remove outliers\n",
        "\n",
        "df = df[df['price']<1922500]\n",
        "\n",
        "#Box Plot\n",
        "sns.boxplot(x='price',data=df)\n",
        "plt.show()"
      ],
      "metadata": {
        "colab": {
          "base_uri": "https://localhost:8080/",
          "height": 279
        },
        "id": "cMCr9C-JPSqu",
        "outputId": "ed03a751-61d6-4844-b73c-e2ad59fbcce4"
      },
      "execution_count": 44,
      "outputs": [
        {
          "output_type": "display_data",
          "data": {
            "text/plain": [
              "<Figure size 432x288 with 1 Axes>"
            ],
            "image/png": "[encoded data removed]"
          },
          "metadata": {
            "needs_background": "light"
          }
        }
      ]
    },
    {
      "cell_type": "code",
      "source": [
        "df.shape"
      ],
      "metadata": {
        "colab": {
          "base_uri": "https://localhost:8080/"
        },
        "id": "llRerq3aRSTk",
        "outputId": "2ea886c0-8350-4fa4-d3da-4d947507d2ad"
      },
      "execution_count": 45,
      "outputs": [
        {
          "output_type": "execute_result",
          "data": {
            "text/plain": [
              "(1962, 6)"
            ]
          },
          "metadata": {},
          "execution_count": 45
        }
      ]
    },
    {
      "cell_type": "code",
      "source": [
        "df.columns"
      ],
      "metadata": {
        "colab": {
          "base_uri": "https://localhost:8080/"
        },
        "id": "-jpewA33RfEi",
        "outputId": "c2d0ae86-86c0-43d7-df3d-870b2d82b4dc"
      },
      "execution_count": 46,
      "outputs": [
        {
          "output_type": "execute_result",
          "data": {
            "text/plain": [
              "Index(['beds', 'baths', 'size', 'lot_size', 'zip_code', 'price'], dtype='object')"
            ]
          },
          "metadata": {},
          "execution_count": 46
        }
      ]
    },
    {
      "cell_type": "code",
      "source": [
        "plt.hist(x=df['size'],bins=20)\n",
        "plt.show()"
      ],
      "metadata": {
        "colab": {
          "base_uri": "https://localhost:8080/",
          "height": 265
        },
        "id": "oqNrmn15RhYv",
        "outputId": "6166aa6f-f647-4b94-b12b-904d5c8fd99e"
      },
      "execution_count": 47,
      "outputs": [
        {
          "output_type": "display_data",
          "data": {
            "text/plain": [
              "<Figure size 432x288 with 1 Axes>"
            ],
            "image/png": "[encoded data removed]"
          },
          "metadata": {
            "needs_background": "light"
          }
        }
      ]
    },
    {
      "cell_type": "code",
      "source": [
        "plt.hist(x=df['price'],bins=20)\n",
        "plt.show()"
      ],
      "metadata": {
        "colab": {
          "base_uri": "https://localhost:8080/",
          "height": 278
        },
        "id": "A5d9u4frRoxL",
        "outputId": "3c512e94-4372-4129-b352-700ab0a155df"
      },
      "execution_count": 48,
      "outputs": [
        {
          "output_type": "display_data",
          "data": {
            "text/plain": [
              "<Figure size 432x288 with 1 Axes>"
            ],
            "image/png": "[encoded data removed]"
          },
          "metadata": {
            "needs_background": "light"
          }
        }
      ]
    },
    {
      "cell_type": "code",
      "source": [
        "#Box Plot\n",
        "sns.boxplot(x='size',data=df)\n",
        "plt.show()"
      ],
      "metadata": {
        "colab": {
          "base_uri": "https://localhost:8080/",
          "height": 279
        },
        "id": "tTi5gejvRroX",
        "outputId": "7fe55f8b-0acd-411a-f971-fb4eb48f7855"
      },
      "execution_count": 49,
      "outputs": [
        {
          "output_type": "display_data",
          "data": {
            "text/plain": [
              "<Figure size 432x288 with 1 Axes>"
            ],
            "image/png": "[encoded data removed]"
          },
          "metadata": {
            "needs_background": "light"
          }
        }
      ]
    },
    {
      "cell_type": "code",
      "source": [
        "plt.scatter(df['size'],df['price'])\n",
        "plt.title('Price vs Size')\n",
        "plt.xlabel('Size')\n",
        "plt.ylabel('Price')\n",
        "plt.show()"
      ],
      "metadata": {
        "colab": {
          "base_uri": "https://localhost:8080/",
          "height": 295
        },
        "id": "Jd2_h5AdRx-b",
        "outputId": "6ee0e03c-991b-4453-c43c-9c320e9c8d27"
      },
      "execution_count": 50,
      "outputs": [
        {
          "output_type": "display_data",
          "data": {
            "text/plain": [
              "<Figure size 432x288 with 1 Axes>"
            ],
            "image/png": "[encoded data removed]"
          },
          "metadata": {
            "needs_background": "light"
          }
        }
      ]
    },
    {
      "cell_type": "code",
      "source": [
        "meanprice_bath = df.groupby('price',as_index = False)['baths'].mean()\n",
        "meanprice_bath = meanprice_bath.round(2)\n",
        "meanprice_bath"
      ],
      "metadata": {
        "colab": {
          "base_uri": "https://localhost:8080/",
          "height": 423
        },
        "id": "UtB7MntJR19S",
        "outputId": "bacbe9ad-0c50-4901-faf6-f05f69b0442f"
      },
      "execution_count": 51,
      "outputs": [
        {
          "output_type": "execute_result",
          "data": {
            "text/plain": [
              "         price  baths\n",
              "0     159000.0   1.00\n",
              "1     159488.0   1.00\n",
              "2     160000.0   2.00\n",
              "3     170000.0   2.00\n",
              "4     197009.0   1.50\n",
              "..         ...    ...\n",
              "686  1868000.0   7.00\n",
              "687  1870000.0   2.50\n",
              "688  1875000.0   3.50\n",
              "689  1880000.0   4.25\n",
              "690  1900000.0   3.10\n",
              "\n",
              "[691 rows x 2 columns]"
            ],
            "text/html": [
              "\n",
              "  <div id=\"df-35ac6636-9656-420f-a977-a1d230da818f\">\n",
              "    <div class=\"colab-df-container\">\n",
              "      <div>\n",
              "<style scoped>\n",
              "    .dataframe tbody tr th:only-of-type {\n",
              "        vertical-align: middle;\n",
              "    }\n",
              "\n",
              "    .dataframe tbody tr th {\n",
              "        vertical-align: top;\n",
              "    }\n",
              "\n",
              "    .dataframe thead th {\n",
              "        text-align: right;\n",
              "    }\n",
              "</style>\n",
              "<table border=\"1\" class=\"dataframe\">\n",
              "  <thead>\n",
              "    <tr style=\"text-align: right;\">\n",
              "      <th></th>\n",
              "      <th>price</th>\n",
              "      <th>baths</th>\n",
              "    </tr>\n",
              "  </thead>\n",
              "  <tbody>\n",
              "    <tr>\n",
              "      <th>0</th>\n",
              "      <td>159000.0</td>\n",
              "      <td>1.00</td>\n",
              "    </tr>\n",
              "    <tr>\n",
              "      <th>1</th>\n",
              "      <td>159488.0</td>\n",
              "      <td>1.00</td>\n",
              "    </tr>\n",
              "    <tr>\n",
              "      <th>2</th>\n",
              "      <td>160000.0</td>\n",
              "      <td>2.00</td>\n",
              "    </tr>\n",
              "    <tr>\n",
              "      <th>3</th>\n",
              "      <td>170000.0</td>\n",
              "      <td>2.00</td>\n",
              "    </tr>\n",
              "    <tr>\n",
              "      <th>4</th>\n",
              "      <td>197009.0</td>\n",
              "      <td>1.50</td>\n",
              "    </tr>\n",
              "    <tr>\n",
              "      <th>...</th>\n",
              "      <td>...</td>\n",
              "      <td>...</td>\n",
              "    </tr>\n",
              "    <tr>\n",
              "      <th>686</th>\n",
              "      <td>1868000.0</td>\n",
              "      <td>7.00</td>\n",
              "    </tr>\n",
              "    <tr>\n",
              "      <th>687</th>\n",
              "      <td>1870000.0</td>\n",
              "      <td>2.50</td>\n",
              "    </tr>\n",
              "    <tr>\n",
              "      <th>688</th>\n",
              "      <td>1875000.0</td>\n",
              "      <td>3.50</td>\n",
              "    </tr>\n",
              "    <tr>\n",
              "      <th>689</th>\n",
              "      <td>1880000.0</td>\n",
              "      <td>4.25</td>\n",
              "    </tr>\n",
              "    <tr>\n",
              "      <th>690</th>\n",
              "      <td>1900000.0</td>\n",
              "      <td>3.10</td>\n",
              "    </tr>\n",
              "  </tbody>\n",
              "</table>\n",
              "<p>691 rows × 2 columns</p>\n",
              "</div>\n",
              "      <button class=\"colab-df-convert\" onclick=\"convertToInteractive('df-35ac6636-9656-420f-a977-a1d230da818f')\"\n",
              "              title=\"Convert this dataframe to an interactive table.\"\n",
              "              style=\"display:none;\">\n",
              "        \n",
              "  <svg xmlns=\"http://www.w3.org/2000/svg\" height=\"24px\"viewBox=\"0 0 24 24\"\n",
              "       width=\"24px\">\n",
              "    <path d=\"M0 0h24v24H0V0z\" fill=\"none\"/>\n",
              "    <path d=\"M18.56 5.44l.94 2.06.94-2.06 2.06-.94-2.06-.94-.94-2.06-.94 2.06-2.06.94zm-11 1L8.5 8.5l.94-2.06 2.06-.94-2.06-.94L8.5 2.5l-.94 2.06-2.06.94zm10 10l.94 2.06.94-2.06 2.06-.94-2.06-.94-.94-2.06-.94 2.06-2.06.94z\"/><path d=\"M17.41 7.96l-1.37-1.37c-.4-.4-.92-.59-1.43-.59-.52 0-1.04.2-1.43.59L10.3 9.45l-7.72 7.72c-.78.78-.78 2.05 0 2.83L4 21.41c.39.39.9.59 1.41.59.51 0 1.02-.2 1.41-.59l7.78-7.78 2.81-2.81c.8-.78.8-2.07 0-2.86zM5.41 20L4 18.59l7.72-7.72 1.47 1.35L5.41 20z\"/>\n",
              "  </svg>\n",
              "      </button>\n",
              "      \n",
              "  <style>\n",
              "    .colab-df-container {\n",
              "      display:flex;\n",
              "      flex-wrap:wrap;\n",
              "      gap: 12px;\n",
              "    }\n",
              "\n",
              "    .colab-df-convert {\n",
              "      background-color: #E8F0FE;\n",
              "      border: none;\n",
              "      border-radius: 50%;\n",
              "      cursor: pointer;\n",
              "      display: none;\n",
              "      fill: #1967D2;\n",
              "      height: 32px;\n",
              "      padding: 0 0 0 0;\n",
              "      width: 32px;\n",
              "    }\n",
              "\n",
              "    .colab-df-convert:hover {\n",
              "      background-color: #E2EBFA;\n",
              "      box-shadow: 0px 1px 2px rgba(60, 64, 67, 0.3), 0px 1px 3px 1px rgba(60, 64, 67, 0.15);\n",
              "      fill: #174EA6;\n",
              "    }\n",
              "\n",
              "    [theme=dark] .colab-df-convert {\n",
              "      background-color: #3B4455;\n",
              "      fill: #D2E3FC;\n",
              "    }\n",
              "\n",
              "    [theme=dark] .colab-df-convert:hover {\n",
              "      background-color: #434B5C;\n",
              "      box-shadow: 0px 1px 3px 1px rgba(0, 0, 0, 0.15);\n",
              "      filter: drop-shadow(0px 1px 2px rgba(0, 0, 0, 0.3));\n",
              "      fill: #FFFFFF;\n",
              "    }\n",
              "  </style>\n",
              "\n",
              "      <script>\n",
              "        const buttonEl =\n",
              "          document.querySelector('#df-35ac6636-9656-420f-a977-a1d230da818f button.colab-df-convert');\n",
              "        buttonEl.style.display =\n",
              "          google.colab.kernel.accessAllowed ? 'block' : 'none';\n",
              "\n",
              "        async function convertToInteractive(key) {\n",
              "          const element = document.querySelector('#df-35ac6636-9656-420f-a977-a1d230da818f');\n",
              "          const dataTable =\n",
              "            await google.colab.kernel.invokeFunction('convertToInteractive',\n",
              "                                                     [key], {});\n",
              "          if (!dataTable) return;\n",
              "\n",
              "          const docLinkHtml = 'Like what you see? Visit the ' +\n",
              "            '<a target=\"_blank\" href=https://colab.research.google.com/notebooks/data_table.ipynb>data table notebook</a>'\n",
              "            + ' to learn more about interactive tables.';\n",
              "          element.innerHTML = '';\n",
              "          dataTable['output_type'] = 'display_data';\n",
              "          await google.colab.output.renderOutput(dataTable, element);\n",
              "          const docLink = document.createElement('div');\n",
              "          docLink.innerHTML = docLinkHtml;\n",
              "          element.appendChild(docLink);\n",
              "        }\n",
              "      </script>\n",
              "    </div>\n",
              "  </div>\n",
              "  "
            ]
          },
          "metadata": {},
          "execution_count": 51
        }
      ]
    },
    {
      "cell_type": "code",
      "source": [
        "sns.boxplot(x='baths',\n",
        "            y='price',\n",
        "           data=df)\n",
        "plt.show()"
      ],
      "metadata": {
        "colab": {
          "base_uri": "https://localhost:8080/",
          "height": 290
        },
        "id": "s0-YgJMySNyy",
        "outputId": "e3bf35bb-3f78-4ea8-d26a-27f1f67bc84f"
      },
      "execution_count": 52,
      "outputs": [
        {
          "output_type": "display_data",
          "data": {
            "text/plain": [
              "<Figure size 432x288 with 1 Axes>"
            ],
            "image/png": "[encoded data removed]"
          },
          "metadata": {
            "needs_background": "light"
          }
        }
      ]
    },
    {
      "cell_type": "code",
      "source": [
        "df = df[['beds', 'baths', 'size', 'lot_size','zip_code','price']]"
      ],
      "metadata": {
        "id": "B9W71WP4TuDL"
      },
      "execution_count": 53,
      "outputs": []
    },
    {
      "cell_type": "code",
      "source": [
        "df.dtypes"
      ],
      "metadata": {
        "colab": {
          "base_uri": "https://localhost:8080/"
        },
        "id": "-XQWyXPkT8D4",
        "outputId": "573bbb68-a0f9-439f-a85f-8a92d2a094d8"
      },
      "execution_count": 54,
      "outputs": [
        {
          "output_type": "execute_result",
          "data": {
            "text/plain": [
              "beds          int64\n",
              "baths       float64\n",
              "size        float64\n",
              "lot_size    float64\n",
              "zip_code     object\n",
              "price       float64\n",
              "dtype: object"
            ]
          },
          "metadata": {},
          "execution_count": 54
        }
      ]
    },
    {
      "cell_type": "code",
      "source": [
        "#General Slicing & Accessing Variable\n",
        "#x = df.iloc[:,:-1]\n",
        "#y = df.iloc[:,-1]"
      ],
      "metadata": {
        "id": "HeK7N5YgT-Av"
      },
      "execution_count": 55,
      "outputs": []
    },
    {
      "cell_type": "code",
      "source": [
        "#Transform Categorical Features to Encoded Dummy Numeric Variable\n",
        "#x = pd.get_dummies(x,drop_first=True)\n",
        "#x.head(6)"
      ],
      "metadata": {
        "id": "4CxD8ONqUHed"
      },
      "execution_count": 56,
      "outputs": []
    },
    {
      "cell_type": "code",
      "source": [
        "#from sklearn.model_selection import train_test_split\n",
        "\n",
        "#x_train, x_test, y_train, y_test = train_test_split(x,y,test_size=0.2,random_state=0)"
      ],
      "metadata": {
        "id": "svO_5n3jUPsv"
      },
      "execution_count": 57,
      "outputs": []
    },
    {
      "cell_type": "code",
      "source": [
        "#from sklearn.preprocessing import StandardScaler\n",
        "\n",
        "#scaler = StandardScaler()\n",
        "#scaler = scaler.fit(x_train)\n",
        "#x_train = scaler.transform(x_train)"
      ],
      "metadata": {
        "id": "Tz3TVUvOUZfp"
      },
      "execution_count": 58,
      "outputs": []
    },
    {
      "cell_type": "code",
      "source": [
        "#Train the Ordinary Least Squared (OLS) algorithm\n",
        "#import statsmodels.api as sm\n",
        "#x_train = sm.add_constant(x_train)\n",
        "#reg_model = sm.OLS(y_train,x_train).fit()"
      ],
      "metadata": {
        "id": "eG1uepEXUc4z"
      },
      "execution_count": 59,
      "outputs": []
    },
    {
      "cell_type": "code",
      "source": [
        "#reg_model.summary()"
      ],
      "metadata": {
        "id": "W-v2RJ8hUgv0"
      },
      "execution_count": 60,
      "outputs": []
    },
    {
      "cell_type": "code",
      "source": [
        "\n",
        "#Feature Scaling the Test Set\n",
        "#from sklearn.preprocessing import StandardScaler\n",
        "#x_test =  scaler.transform(x_test)"
      ],
      "metadata": {
        "id": "UGvL8s7dUj4m"
      },
      "execution_count": 61,
      "outputs": []
    },
    {
      "cell_type": "code",
      "source": [
        "#Apply the Model using Test set\n",
        "#x_test = sm.add_constant(x_test)\n",
        "#y_pred = reg_model.predict(x_test) #Predict the output"
      ],
      "metadata": {
        "id": "YJ_Z9gFhUq1_"
      },
      "execution_count": 62,
      "outputs": []
    },
    {
      "cell_type": "code",
      "source": [
        "#Dataframe of Predicted Output and Actual Output for Test set\n",
        "#df_validate = pd.DataFrame({'Actual':y_test,'Predicted':y_pred}) #Create Data Frame\n",
        "#df_validate['Predicted']=df_validate['Predicted'].round(2)\n",
        "#df_validate.head(10)"
      ],
      "metadata": {
        "id": "xsC9-bxLUtB2"
      },
      "execution_count": 63,
      "outputs": []
    },
    {
      "cell_type": "code",
      "source": [
        "from sklearn.model_selection import train_test_split\n",
        "from sklearn.linear_model import LinearRegression\n",
        "from sklearn.tree import DecisionTreeRegressor\n",
        "from sklearn.ensemble import RandomForestRegressor\n",
        "from sklearn.metrics import explained_variance_score\n",
        "from sklearn.metrics import confusion_matrix"
      ],
      "metadata": {
        "id": "19QeofVOU26B"
      },
      "execution_count": 64,
      "outputs": []
    },
    {
      "cell_type": "code",
      "source": [
        "#General Slicing & Accessing Variable\n",
        "x = df.iloc[:,:-1]\n",
        "y = df.iloc[:,-1]"
      ],
      "metadata": {
        "id": "uXjI8rfRXC4X"
      },
      "execution_count": 65,
      "outputs": []
    },
    {
      "cell_type": "code",
      "source": [
        "#from sklearn.model_selection import train_test_split\n",
        "\n",
        "x_train, x_test, y_train, y_test = train_test_split(x,y,test_size=0.3,random_state=0)"
      ],
      "metadata": {
        "id": "9FHZdDVrXmse"
      },
      "execution_count": 66,
      "outputs": []
    },
    {
      "cell_type": "code",
      "source": [
        "# Decision Tree Regressor\n",
        "\n",
        "tr_regressor = DecisionTreeRegressor(random_state=0)\n",
        "tr_regressor.fit(x_train,y_train)\n",
        "tr_regressor.score(x_test,y_test)\n",
        "pred_tr = tr_regressor.predict(x_test)\n",
        "decision_score=tr_regressor.score(x_test,y_test)\n",
        "expl_tr = explained_variance_score(pred_tr,y_test)"
      ],
      "metadata": {
        "id": "a-Yo-wI1X6f7"
      },
      "execution_count": 67,
      "outputs": []
    },
    {
      "cell_type": "code",
      "source": [
        "# Random Forest Regressor\n",
        "\n",
        "rf_regressor = RandomForestRegressor(n_estimators=28,random_state=0)\n",
        "rf_regressor.fit(x_train,y_train)\n",
        "rf_regressor.score(x_test,y_test)\n",
        "rf_pred =rf_regressor.predict(x_test)\n",
        "rf_score=rf_regressor.score(x_test,y_test)\n",
        "expl_rf = explained_variance_score(rf_pred,y_test)"
      ],
      "metadata": {
        "id": "cQ7GulN_YOAE"
      },
      "execution_count": 73,
      "outputs": []
    },
    {
      "cell_type": "code",
      "source": [
        "print(\"Decision tree  Regression Model Score is \",round(tr_regressor.score(x_test,y_test)*100))\n",
        "print(\"Random Forest Regression Model Score is \",round(rf_regressor.score(x_test,y_test)*100))"
      ],
      "metadata": {
        "colab": {
          "base_uri": "https://localhost:8080/"
        },
        "id": "RTyMrZ3GYa9h",
        "outputId": "a102d052-7c15-4b3e-e480-cad307f71331"
      },
      "execution_count": 74,
      "outputs": [
        {
          "output_type": "stream",
          "name": "stdout",
          "text": [
            "Decision tree  Regression Model Score is  22\n",
            "Random Forest Regression Model Score is  58\n"
          ]
        }
      ]
    },
    {
      "cell_type": "code",
      "source": [
        "models_score =pd.DataFrame({'Model':['Decision Tree','Random forest Regression'],\n",
        "                            'Score':[decision_score,rf_score],\n",
        "                            'Explained Variance Score':[expl_tr,expl_rf]\n",
        "                           })\n",
        "models_score.sort_values(by='Score',ascending=False)"
      ],
      "metadata": {
        "colab": {
          "base_uri": "https://localhost:8080/",
          "height": 112
        },
        "id": "-wsB8qDjYxlw",
        "outputId": "4b243dd9-a964-4cca-f3bd-0762e985841c"
      },
      "execution_count": 75,
      "outputs": [
        {
          "output_type": "execute_result",
          "data": {
            "text/plain": [
              "                      Model     Score  Explained Variance Score\n",
              "1  Random forest Regression  0.580636                  0.289930\n",
              "0             Decision Tree  0.223896                  0.195356"
            ],
            "text/html": [
              "\n",
              "  <div id=\"df-d604fcc1-1c5b-4e47-b303-fa5832f1463a\">\n",
              "    <div class=\"colab-df-container\">\n",
              "      <div>\n",
              "<style scoped>\n",
              "    .dataframe tbody tr th:only-of-type {\n",
              "        vertical-align: middle;\n",
              "    }\n",
              "\n",
              "    .dataframe tbody tr th {\n",
              "        vertical-align: top;\n",
              "    }\n",
              "\n",
              "    .dataframe thead th {\n",
              "        text-align: right;\n",
              "    }\n",
              "</style>\n",
              "<table border=\"1\" class=\"dataframe\">\n",
              "  <thead>\n",
              "    <tr style=\"text-align: right;\">\n",
              "      <th></th>\n",
              "      <th>Model</th>\n",
              "      <th>Score</th>\n",
              "      <th>Explained Variance Score</th>\n",
              "    </tr>\n",
              "  </thead>\n",
              "  <tbody>\n",
              "    <tr>\n",
              "      <th>1</th>\n",
              "      <td>Random forest Regression</td>\n",
              "      <td>0.580636</td>\n",
              "      <td>0.289930</td>\n",
              "    </tr>\n",
              "    <tr>\n",
              "      <th>0</th>\n",
              "      <td>Decision Tree</td>\n",
              "      <td>0.223896</td>\n",
              "      <td>0.195356</td>\n",
              "    </tr>\n",
              "  </tbody>\n",
              "</table>\n",
              "</div>\n",
              "      <button class=\"colab-df-convert\" onclick=\"convertToInteractive('df-d604fcc1-1c5b-4e47-b303-fa5832f1463a')\"\n",
              "              title=\"Convert this dataframe to an interactive table.\"\n",
              "              style=\"display:none;\">\n",
              "        \n",
              "  <svg xmlns=\"http://www.w3.org/2000/svg\" height=\"24px\"viewBox=\"0 0 24 24\"\n",
              "       width=\"24px\">\n",
              "    <path d=\"M0 0h24v24H0V0z\" fill=\"none\"/>\n",
              "    <path d=\"M18.56 5.44l.94 2.06.94-2.06 2.06-.94-2.06-.94-.94-2.06-.94 2.06-2.06.94zm-11 1L8.5 8.5l.94-2.06 2.06-.94-2.06-.94L8.5 2.5l-.94 2.06-2.06.94zm10 10l.94 2.06.94-2.06 2.06-.94-2.06-.94-.94-2.06-.94 2.06-2.06.94z\"/><path d=\"M17.41 7.96l-1.37-1.37c-.4-.4-.92-.59-1.43-.59-.52 0-1.04.2-1.43.59L10.3 9.45l-7.72 7.72c-.78.78-.78 2.05 0 2.83L4 21.41c.39.39.9.59 1.41.59.51 0 1.02-.2 1.41-.59l7.78-7.78 2.81-2.81c.8-.78.8-2.07 0-2.86zM5.41 20L4 18.59l7.72-7.72 1.47 1.35L5.41 20z\"/>\n",
              "  </svg>\n",
              "      </button>\n",
              "      \n",
              "  <style>\n",
              "    .colab-df-container {\n",
              "      display:flex;\n",
              "      flex-wrap:wrap;\n",
              "      gap: 12px;\n",
              "    }\n",
              "\n",
              "    .colab-df-convert {\n",
              "      background-color: #E8F0FE;\n",
              "      border: none;\n",
              "      border-radius: 50%;\n",
              "      cursor: pointer;\n",
              "      display: none;\n",
              "      fill: #1967D2;\n",
              "      height: 32px;\n",
              "      padding: 0 0 0 0;\n",
              "      width: 32px;\n",
              "    }\n",
              "\n",
              "    .colab-df-convert:hover {\n",
              "      background-color: #E2EBFA;\n",
              "      box-shadow: 0px 1px 2px rgba(60, 64, 67, 0.3), 0px 1px 3px 1px rgba(60, 64, 67, 0.15);\n",
              "      fill: #174EA6;\n",
              "    }\n",
              "\n",
              "    [theme=dark] .colab-df-convert {\n",
              "      background-color: #3B4455;\n",
              "      fill: #D2E3FC;\n",
              "    }\n",
              "\n",
              "    [theme=dark] .colab-df-convert:hover {\n",
              "      background-color: #434B5C;\n",
              "      box-shadow: 0px 1px 3px 1px rgba(0, 0, 0, 0.15);\n",
              "      filter: drop-shadow(0px 1px 2px rgba(0, 0, 0, 0.3));\n",
              "      fill: #FFFFFF;\n",
              "    }\n",
              "  </style>\n",
              "\n",
              "      <script>\n",
              "        const buttonEl =\n",
              "          document.querySelector('#df-d604fcc1-1c5b-4e47-b303-fa5832f1463a button.colab-df-convert');\n",
              "        buttonEl.style.display =\n",
              "          google.colab.kernel.accessAllowed ? 'block' : 'none';\n",
              "\n",
              "        async function convertToInteractive(key) {\n",
              "          const element = document.querySelector('#df-d604fcc1-1c5b-4e47-b303-fa5832f1463a');\n",
              "          const dataTable =\n",
              "            await google.colab.kernel.invokeFunction('convertToInteractive',\n",
              "                                                     [key], {});\n",
              "          if (!dataTable) return;\n",
              "\n",
              "          const docLinkHtml = 'Like what you see? Visit the ' +\n",
              "            '<a target=\"_blank\" href=https://colab.research.google.com/notebooks/data_table.ipynb>data table notebook</a>'\n",
              "            + ' to learn more about interactive tables.';\n",
              "          element.innerHTML = '';\n",
              "          dataTable['output_type'] = 'display_data';\n",
              "          await google.colab.output.renderOutput(dataTable, element);\n",
              "          const docLink = document.createElement('div');\n",
              "          docLink.innerHTML = docLinkHtml;\n",
              "          element.appendChild(docLink);\n",
              "        }\n",
              "      </script>\n",
              "    </div>\n",
              "  </div>\n",
              "  "
            ]
          },
          "metadata": {},
          "execution_count": 75
        }
      ]
    },
    {
      "cell_type": "code",
      "source": [],
      "metadata": {
        "id": "9xsYm63ZY_Tz"
      },
      "execution_count": null,
      "outputs": []
    }
  ]
}